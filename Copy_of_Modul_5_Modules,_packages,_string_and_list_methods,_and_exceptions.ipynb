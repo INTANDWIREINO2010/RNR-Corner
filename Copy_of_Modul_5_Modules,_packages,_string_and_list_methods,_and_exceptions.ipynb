{
  "nbformat": 4,
  "nbformat_minor": 0,
  "metadata": {
    "kernelspec": {
      "display_name": "Python 3",
      "language": "python",
      "name": "python3"
    },
    "language_info": {
      "codemirror_mode": {
        "name": "ipython",
        "version": 3
      },
      "file_extension": ".py",
      "mimetype": "text/x-python",
      "name": "python",
      "nbconvert_exporter": "python",
      "pygments_lexer": "ipython3",
      "version": "3.6.9"
    },
    "colab": {
      "name": "Copy of Modul 5 - Modules, packages, string and list methods, and exceptions.ipynb",
      "provenance": [],
      "include_colab_link": true
    }
  },
  "cells": [
    {
      "cell_type": "markdown",
      "metadata": {
        "id": "view-in-github",
        "colab_type": "text"
      },
      "source": [
        "<a href=\"https://colab.research.google.com/github/INTANDWIREINO2010/RNR-Corner/blob/master/Copy_of_Modul_5_Modules%2C_packages%2C_string_and_list_methods%2C_and_exceptions.ipynb\" target=\"_parent\"><img src=\"https://colab.research.google.com/assets/colab-badge.svg\" alt=\"Open In Colab\"/></a>"
      ]
    },
    {
      "cell_type": "markdown",
      "metadata": {
        "id": "_P1TW8ChPy_o",
        "colab_type": "text"
      },
      "source": [
        "# Module\n",
        "klik untuk [Open in colab](https://colab.research.google.com/github/sykrn/py-dts/blob/master/Modul%205%20-%20Modules,%20packages,%20string%20and%20list%20methods,%20and%20exceptions.ipynb) "
      ]
    },
    {
      "cell_type": "markdown",
      "metadata": {
        "id": "8o_viLhNPy_s",
        "colab_type": "text"
      },
      "source": [
        "Computer code has a tendency to grow. \n",
        "\n",
        "Growing code is in fact a growing problem.\n",
        "\n",
        "A larger code always means tougher maintenance. Searching for bugs is always easier where the code is smaller\n",
        "\n",
        "If you want such a software project to be completed successfully, you have to have the means allowing you to:\n",
        "- divide all the tasks among the developers;\n",
        "- join all the created parts into one working whole.\n",
        "\n",
        "For example, a certain project can be divided into two main parts:\n",
        "\n",
        "- the user interface (the part that communicates with the user using widgets and a graphical screen)\n",
        "- the logic (the part processing data and producing results)\n",
        "\n",
        "Each of these parts can be (most likely) divided into smaller ones, and so on. Such a process is often called __decomposition__."
      ]
    },
    {
      "cell_type": "markdown",
      "metadata": {
        "id": "S8jBXf2zPy_u",
        "colab_type": "text"
      },
      "source": [
        "## How to make use of a module?\n"
      ]
    },
    {
      "cell_type": "markdown",
      "metadata": {
        "id": "2Ju7SjeMPy_w",
        "colab_type": "text"
      },
      "source": [
        "![module.PNG](attachment:module.PNG)\n",
        "\n",
        "- pengguna (__user__) :  Menggunakan module yang sudah ada\n",
        "- penyedia (__supplier__) : Membuat module baru"
      ]
    },
    {
      "cell_type": "markdown",
      "metadata": {
        "id": "A1kcY6EfPy_y",
        "colab_type": "text"
      },
      "source": [
        "a module is identified by its __name__\n",
        "\n",
        "Each module consists of entities (like a book consists of chapters). These entities can be functions, variables, constants, classes, and objects. \n",
        "\n",
        "![module%20name.PNG](attachment:module%20name.PNG)\n",
        "\n"
      ]
    },
    {
      "cell_type": "markdown",
      "metadata": {
        "id": "LiOCig14Py_0",
        "colab_type": "text"
      },
      "source": [
        "## Importing a module"
      ]
    },
    {
      "cell_type": "markdown",
      "metadata": {
        "id": "dxXfPsiLPy_1",
        "colab_type": "text"
      },
      "source": [
        "Importing a module is done by an instruction named `import`\n",
        "\n",
        "the clause contains:\n",
        "\n",
        "- the `import` keyword;\n",
        "- the `name` of the module which is subject to import.\n",
        "\n",
        "![import.PNG](attachment:import.PNG)"
      ]
    },
    {
      "cell_type": "code",
      "metadata": {
        "id": "yOcysBhQPy_3",
        "colab_type": "code",
        "colab": {}
      },
      "source": [
        "import math"
      ],
      "execution_count": null,
      "outputs": []
    },
    {
      "cell_type": "code",
      "metadata": {
        "id": "ieaDX32xPzAD",
        "colab_type": "code",
        "colab": {}
      },
      "source": [
        "import math, sys"
      ],
      "execution_count": null,
      "outputs": []
    },
    {
      "cell_type": "markdown",
      "metadata": {
        "id": "YScW31QSPzAM",
        "colab_type": "text"
      },
      "source": [
        "## namespace"
      ]
    },
    {
      "cell_type": "markdown",
      "metadata": {
        "id": "nTddORr5PzAO",
        "colab_type": "text"
      },
      "source": [
        "A namespace is a space (understood in a non-physical context) in which some names exist and the names don't conflict with each other (i.e., there are not two different objects of the same name).\n",
        "\n",
        "![namespace.PNG](attachment:namespace.PNG)"
      ]
    },
    {
      "cell_type": "code",
      "metadata": {
        "id": "T4BEbiKbPzAP",
        "colab_type": "code",
        "colab": {}
      },
      "source": [
        "import numpy\n",
        "import math\n",
        "import scipy\n",
        "\n",
        "print(math.pi)\n",
        "print(math.e)\n",
        "print(numpy.pi)\n",
        "print(scipy.pi)\n",
        "#note: pi inside the module won't be affected by pi that we declare in main program"
      ],
      "execution_count": null,
      "outputs": []
    },
    {
      "cell_type": "code",
      "metadata": {
        "id": "EyR9HCuQPzAY",
        "colab_type": "code",
        "colab": {}
      },
      "source": [
        "from math import pi,e\n",
        "\n",
        "print(pi)\n",
        "print(e)"
      ],
      "execution_count": null,
      "outputs": []
    },
    {
      "cell_type": "markdown",
      "metadata": {
        "id": "nDkCN4LCPzAh",
        "colab_type": "text"
      },
      "source": [
        "The instruction consists of the following elements:\n",
        "\n",
        "- the `from` keyword;\n",
        "- the `name of the module` to be (selectively) imported;\n",
        "- the `import` keyword;\n",
        "- the `name` or `list of names` of the entity/entities which are being imported into the namespace."
      ]
    },
    {
      "cell_type": "code",
      "metadata": {
        "id": "_ihsgM4TPzAi",
        "colab_type": "code",
        "colab": {}
      },
      "source": [
        "## override nilai sin dan pi\n",
        "from math import sin, pi\n",
        "\n",
        "print(sin(pi/2))\n",
        "\n",
        "pi = 3.14\n",
        "\n",
        "def sin(x):\n",
        "    if 2 * x == pi:\n",
        "        return 0.99999999\n",
        "    else:\n",
        "        return None\n",
        "\n",
        "print(sin(pi/2))"
      ],
      "execution_count": null,
      "outputs": []
    },
    {
      "cell_type": "markdown",
      "metadata": {
        "id": "nI6chCmUPzAv",
        "colab_type": "text"
      },
      "source": [
        "## Mengimport semua modul"
      ]
    },
    {
      "cell_type": "code",
      "metadata": {
        "id": "icl0boR5PzAx",
        "colab_type": "code",
        "colab": {}
      },
      "source": [
        "from math import *\n",
        "\n",
        "print(tan(0))"
      ],
      "execution_count": null,
      "outputs": []
    },
    {
      "cell_type": "markdown",
      "metadata": {
        "id": "ylCZDpL5PzA6",
        "colab_type": "text"
      },
      "source": [
        "Nama dari entitas digantikan dengan asterisk tunggal `*`\n",
        "\n",
        "`*` merupakan instruksi untuk meng-import semua entitas yang ada"
      ]
    },
    {
      "cell_type": "markdown",
      "metadata": {
        "id": "9maxT4n-PzA8",
        "colab_type": "text"
      },
      "source": [
        "### Aliasing"
      ]
    },
    {
      "cell_type": "markdown",
      "metadata": {
        "id": "DGQBCLOBPzA-",
        "colab_type": "text"
      },
      "source": [
        "Untuk nama file yang akan di `import` kan dapat dilakukan proses `aliasing`\n",
        "\n",
        "`Aliasing` menyebabkan `modul` diidentifikasi dengan `nama yang berbeda` dari `aslinya`"
      ]
    },
    {
      "cell_type": "markdown",
      "metadata": {
        "id": "BMYdEmRFPzA_",
        "colab_type": "text"
      },
      "source": [
        "`import` module `as` alias\n",
        "\n",
        "`as` merupakan kata kunci untuk melakukan `aliasing`"
      ]
    },
    {
      "cell_type": "markdown",
      "metadata": {
        "id": "J-6nVO5rPzBB",
        "colab_type": "text"
      },
      "source": [
        "Jika kita ingin merename `math`, dengan `m` dapat dilakukan dengan cara sebagai berikut. "
      ]
    },
    {
      "cell_type": "code",
      "metadata": {
        "id": "5TB4_0VbPzBD",
        "colab_type": "code",
        "colab": {}
      },
      "source": [
        "import math as m\n",
        "\n",
        "print(m.pi)\n"
      ],
      "execution_count": null,
      "outputs": []
    },
    {
      "cell_type": "markdown",
      "metadata": {
        "id": "cKXIF4lZPzBL",
        "colab_type": "text"
      },
      "source": [
        "__Note__ : after successful execution of an aliased import, the original module name becomes inaccessible and must not be used."
      ]
    },
    {
      "cell_type": "markdown",
      "metadata": {
        "id": "AWsTBn9lPzBM",
        "colab_type": "text"
      },
      "source": [
        "__from__ `module` __import__ `name` __as__ `alias`\n",
        "\n",
        "__from__ `module` __import__ `n` __as__ `a`, `m` __as__ `b`, `o` __as__ `c`"
      ]
    },
    {
      "cell_type": "code",
      "metadata": {
        "id": "jhMpOTySPzBN",
        "colab_type": "code",
        "colab": {}
      },
      "source": [
        "from math import pi as PI, sin as sine\n",
        "\n",
        "print(sine(PI/2))\n",
        "\n",
        "dir(math)"
      ],
      "execution_count": null,
      "outputs": []
    },
    {
      "cell_type": "markdown",
      "metadata": {
        "id": "qkBKm0BFPzBY",
        "colab_type": "text"
      },
      "source": [
        "## Working with standard modules\n",
        "\n",
        "__dir__(`module`)\n",
        "\n",
        "The function returns an alphabetically sorted list containing all entities' names available in the module"
      ]
    },
    {
      "cell_type": "code",
      "metadata": {
        "id": "mUTQawYNPzBZ",
        "colab_type": "code",
        "colab": {}
      },
      "source": [
        "import math\n",
        "\n",
        "a = math.pow(2,3)\n",
        "print(a)\n",
        "\n",
        "for name in dir(math):\n",
        "    print(name, end=\"\\t\")"
      ],
      "execution_count": null,
      "outputs": []
    },
    {
      "cell_type": "markdown",
      "metadata": {
        "id": "VruLcYy2PzBg",
        "colab_type": "text"
      },
      "source": [
        "###  `math` module"
      ]
    },
    {
      "cell_type": "markdown",
      "metadata": {
        "id": "akeHZm-UPzBh",
        "colab_type": "text"
      },
      "source": [
        "Let's start with a quick preview of some of the functions provided by the math module.\n",
        "\n",
        "The first group of the math's functions are connected with trigonometry:\n",
        "\n",
        "- `sin(x)` → the sine of x;\n",
        "- `cos(x)` → the cosine of x;\n",
        "- `tan(x)` → the tangent of x.\n",
        "\n",
        "Here are also their inversed versions:\n",
        "\n",
        "- `asin(x)` → the arcsine of x;\n",
        "- `acos(x)` → the arccosine of x;\n",
        "- `atan(x)` → the arctangent of x.\n",
        "\n",
        "`x` is a radian\n",
        "\n",
        "These functions take one argument (mind the domains) and return a measure of an angle in radians."
      ]
    },
    {
      "cell_type": "markdown",
      "metadata": {
        "id": "B7L5uuE_PzBj",
        "colab_type": "text"
      },
      "source": [
        "To effectively operate on angle measurements, the math module provides you with the following entities:\n",
        "\n",
        "- `pi` → a constant with a value that is an approximation of π;\n",
        "- `radians(x)` → a function that converts x from degrees to radians;\n",
        "- `degrees(x)` → acting in the other direction (from radians to degrees)"
      ]
    },
    {
      "cell_type": "code",
      "metadata": {
        "id": "dJqojf2tPzBk",
        "colab_type": "code",
        "colab": {}
      },
      "source": [
        "from math import pi, radians, degrees, sin, cos, tan, asin\n",
        "\n",
        "ad = 90\n",
        "\n",
        "ar = radians(ad)\n",
        "print(ar)\n",
        "ad = degrees(ar)\n",
        "print(ad)\n",
        "\n",
        "print(ad == 90.)\n",
        "print(ar == pi / 2.)\n",
        "print(sin(ar) / cos(ar) == tan(ar))\n",
        "print(asin(sin(ar)) == ar)"
      ],
      "execution_count": null,
      "outputs": []
    },
    {
      "cell_type": "markdown",
      "metadata": {
        "id": "cpRq20QfPzBq",
        "colab_type": "text"
      },
      "source": [
        "Another group of the math's functions is formed by functions which are connected with exponentiation:\n",
        "\n",
        "- `e` → a constant with a value that is an approximation of Euler's number (e)\n",
        "- `exp(x)` → finding the value of ex;\n",
        "- `log(x)` → the natural logarithm of x\n",
        "- `log(x, b)` → the logarithm of x to base b\n",
        "- `log10(x)` → the decimal logarithm of x (more precise than log(x, 10))\n",
        "- `log2(x)` → the binary logarithm of x (more precise than log(x, 2))"
      ]
    },
    {
      "cell_type": "code",
      "metadata": {
        "id": "1fSDhFHXPzBr",
        "colab_type": "code",
        "colab": {}
      },
      "source": [
        "from math import e, exp, log\n",
        "\n",
        "print(pow(e, 1) == exp(log(e)))\n",
        "print(pow(2, 2) == exp(2 * log(2)))\n",
        "print(log(e, e) == exp(0))"
      ],
      "execution_count": null,
      "outputs": []
    },
    {
      "cell_type": "markdown",
      "metadata": {
        "id": "FrDvCl8TPzBx",
        "colab_type": "text"
      },
      "source": [
        "#### Built-in function\n",
        "\n",
        "Note: the pow() function:\n",
        "\n",
        "`pow(x, y)` → finding the value of xy (mind the domains)\n",
        "\n",
        "This is a built-in function, and doesn't have to be imported."
      ]
    },
    {
      "cell_type": "markdown",
      "metadata": {
        "id": "JlY2B2oaPzBy",
        "colab_type": "text"
      },
      "source": [
        "The last group consists of some general-purpose functions like:\n",
        "\n",
        "- ceil(x) → the ceiling of x (the smallest integer greater than or equal to x)\n",
        "- floor(x) → the floor of x (the largest integer less than or equal to x)\n",
        "- trunc(x) → the value of x truncated to an integer (__be careful__ - it's __not an equivalent__ either of ceil or floor)\n",
        "- factorial(x) → returns x! (x has to be an integral and not a negative)\n",
        "- hypot(x, y) → returns the length of the hypotenuse of a right-angle triangle with the leg lengths equal to x and y (the same as sqrt(pow(x, 2) + pow(y, 2)) but more precise)"
      ]
    },
    {
      "cell_type": "markdown",
      "metadata": {
        "id": "vIalCvA5PzBz",
        "colab_type": "text"
      },
      "source": [
        "It demonstrates the fundamental differences between `ceil()`, `floor()` and `trunc()`."
      ]
    },
    {
      "cell_type": "code",
      "metadata": {
        "id": "XfhG1Kt3PzB0",
        "colab_type": "code",
        "colab": {}
      },
      "source": [
        "from math import ceil, floor, trunc\n",
        "\n",
        "x = 1.4\n",
        "y = 2.6\n",
        "\n",
        "print(floor(x), floor(y))\n",
        "print(floor(-x), floor(-y))\n",
        "print(ceil(x), ceil(y))\n",
        "print(ceil(-x), ceil(-y))\n",
        "print(trunc(x), trunc(y))\n",
        "print(trunc(-x), trunc(-y))"
      ],
      "execution_count": null,
      "outputs": []
    },
    {
      "cell_type": "markdown",
      "metadata": {
        "id": "i_-B9DSaPzB6",
        "colab_type": "text"
      },
      "source": [
        "### `random` Module\n",
        "\n",
        "![random.PNG](attachment:random.PNG)"
      ]
    },
    {
      "cell_type": "markdown",
      "metadata": {
        "id": "oksbP_adPzB7",
        "colab_type": "text"
      },
      "source": [
        "It delivers some mechanisms allowing you to operate with __pseudorandom numbers__.\n",
        "\n",
        "__pseudo -__ :  the numbers generated by the modules may look random in the sense that you cannot predict their subsequent values, but don't forget that they all are calculated using very refined algorithms."
      ]
    },
    {
      "cell_type": "code",
      "metadata": {
        "id": "JzufYjMpPzB8",
        "colab_type": "code",
        "colab": {}
      },
      "source": [
        "from random import random\n",
        "\n",
        "for i in range(5):\n",
        "    print(random())"
      ],
      "execution_count": null,
      "outputs": []
    },
    {
      "cell_type": "markdown",
      "metadata": {
        "id": "_-y8zu0TPzCC",
        "colab_type": "text"
      },
      "source": [
        "If you want integer random values, one of the following functions would fit better:\n",
        "\n",
        "- randrange(end)\n",
        "- randrange(beg, end)\n",
        "- randrange(beg, end, step)\n",
        "- randint(left, right)"
      ]
    },
    {
      "cell_type": "code",
      "metadata": {
        "id": "UPOux8isPzCD",
        "colab_type": "code",
        "colab": {}
      },
      "source": [
        "from random import randrange, randint\n",
        "\n",
        "print(randrange(200), end=' ')\n",
        "print(randrange(50, 100), end=' ')\n",
        "print(randrange(50, 200, 10), end=' ')\n",
        "print(randint(5, 10))"
      ],
      "execution_count": null,
      "outputs": []
    },
    {
      "cell_type": "markdown",
      "metadata": {
        "id": "6J3FY--PPzCI",
        "colab_type": "text"
      },
      "source": [
        "This is what we got in one of the launches:\n",
        "\n",
        "__`9,4,5,4,5,8,9,4,8,4,`__"
      ]
    },
    {
      "cell_type": "markdown",
      "metadata": {
        "id": "kCRLpRrAPzCJ",
        "colab_type": "text"
      },
      "source": [
        "It's a function named in a very suggestive way - choice:\n",
        "\n",
        "choice(sequence)\n",
        "sample(sequence, elements_to_choose=1)"
      ]
    },
    {
      "cell_type": "code",
      "metadata": {
        "id": "MuGlLJ6NPzCK",
        "colab_type": "code",
        "colab": {}
      },
      "source": [
        "from random import choice, sample\n",
        "\n",
        "lst = [1, 2, 3, 4, 5, 6, 7, 8, 9, 10]\n",
        "siswa = ['Ani','Budi','Cakra','Desi']\n",
        "print(choice(siswa))\n",
        "print(sample(lst, 5))\n",
        "print(sample(lst, 10))"
      ],
      "execution_count": null,
      "outputs": []
    },
    {
      "cell_type": "code",
      "metadata": {
        "id": "ZppM9glVPzCO",
        "colab_type": "code",
        "colab": {}
      },
      "source": [
        "from random import randint\n",
        "\n",
        "for i in range(10):\n",
        "    print(randint(1, 10), end=',')"
      ],
      "execution_count": null,
      "outputs": []
    },
    {
      "cell_type": "code",
      "metadata": {
        "id": "-Iz3al0BPzCX",
        "colab_type": "code",
        "colab": {}
      },
      "source": [
        "from platform import platform\n",
        "\n",
        "print(platform())\n",
        "print(platform(1))\n",
        "print(platform(0, 1))"
      ],
      "execution_count": null,
      "outputs": []
    },
    {
      "cell_type": "code",
      "metadata": {
        "id": "FfSo3P4ZPzCa",
        "colab_type": "code",
        "colab": {}
      },
      "source": [
        "from platform import machine\n",
        "\n",
        "print(machine())"
      ],
      "execution_count": null,
      "outputs": []
    },
    {
      "cell_type": "code",
      "metadata": {
        "id": "B-ZWoyG0PzCe",
        "colab_type": "code",
        "colab": {}
      },
      "source": [
        "from platform import processor\n",
        "\n",
        "print(processor())"
      ],
      "execution_count": null,
      "outputs": []
    },
    {
      "cell_type": "markdown",
      "metadata": {
        "id": "TBie8RXKPzCl",
        "colab_type": "text"
      },
      "source": [
        "You can read about all standard Python modules here: https://docs.python.org/3/py-modindex.html."
      ]
    },
    {
      "cell_type": "markdown",
      "metadata": {
        "id": "bTZiN95DPzCm",
        "colab_type": "text"
      },
      "source": [
        "# Package"
      ]
    },
    {
      "cell_type": "markdown",
      "metadata": {
        "id": "dVgZ0iQ_PzCn",
        "colab_type": "text"
      },
      "source": [
        "![pacakge.PNG](attachment:pacakge.PNG)"
      ]
    },
    {
      "cell_type": "markdown",
      "metadata": {
        "id": "0KXsoA1GPzCo",
        "colab_type": "text"
      },
      "source": [
        "- __a module is a kind of container filled with functions__ - you can pack as many functions as you want into one module and distribute it across the world;\n",
        "- of course, it's generally __a good idea not to mix functions with different application areas__ within one module\n",
        "- making many modules may cause a little mess - sooner or later you'll want to __group your modules__ exactly in the same way as you've previously grouped functions \n",
        "- __package__; in the world of modules, a package plays a similar role to a folder/directory in the world of files."
      ]
    },
    {
      "cell_type": "markdown",
      "metadata": {
        "id": "2fHy2n8-PzCp",
        "colab_type": "text"
      },
      "source": [
        "### Membuat modul\n",
        "\n",
        "Pertama,kita membuat 2 file dengan nama aritmatika.py dan main.py\n",
        "\n",
        "Langkah:\n",
        "\n",
        "artimatika.py:\n",
        "\n",
        "- Buka python IDLE\n",
        "- Klik __file__ dan pilih __new file__\n",
        "- Simpan file dengan nama __aritmatika.py__\n",
        "\n",
        "main.py:\n",
        "\n",
        "- Buka python IDLE\n",
        "- Klik __file__ dan pilih __new file__\n",
        "- Simpan file dengan __main.py__\n",
        "\n",
        "Note: __Kedua file disimpan dalam satu folder yang sama.__\n"
      ]
    },
    {
      "cell_type": "code",
      "metadata": {
        "id": "fNBPbd4HPzCp",
        "colab_type": "code",
        "colab": {}
      },
      "source": [
        "# aritmatika.py\n",
        "\n",
        "def tambah(a,b):\n",
        "    return a+b\n",
        "\n",
        "def kurang(a,b):\n",
        "    return a-b\n",
        "\n",
        "def kali(a,b):\n",
        "    return a*b\n",
        "\n",
        "def bagi(a,b):\n",
        "    return a/b"
      ],
      "execution_count": null,
      "outputs": []
    },
    {
      "cell_type": "code",
      "metadata": {
        "id": "kz45-vUJPzCt",
        "colab_type": "code",
        "colab": {}
      },
      "source": [
        "import aritmatika"
      ],
      "execution_count": null,
      "outputs": []
    },
    {
      "cell_type": "code",
      "metadata": {
        "id": "u-qWb3wzPzCx",
        "colab_type": "code",
        "colab": {}
      },
      "source": [
        "a=aritmatika.tambah(3,4)\n",
        "b=aritmatika.kurang(3,4)\n",
        "c=aritmatika.kali(3,4)\n",
        "d=aritmatika.bagi(3,4)\n",
        "\n",
        "print(a)\n",
        "print(b)\n",
        "print(c)\n",
        "print(d)"
      ],
      "execution_count": null,
      "outputs": []
    },
    {
      "cell_type": "code",
      "metadata": {
        "id": "_lbg1G80PzC0",
        "colab_type": "code",
        "colab": {}
      },
      "source": [
        "from aritmatika import tambah\n",
        "\n",
        "a=tambah(10,3)\n",
        "print(a)"
      ],
      "execution_count": null,
      "outputs": []
    },
    {
      "cell_type": "markdown",
      "metadata": {
        "id": "hLcA_sbtPzC4",
        "colab_type": "text"
      },
      "source": [
        "# Package"
      ]
    },
    {
      "cell_type": "markdown",
      "metadata": {
        "id": "C9bfbjDoPzC4",
        "colab_type": "text"
      },
      "source": [
        "1. Buatlah folder dengan nama LATIHAN_PYTHON\n",
        "2. Dalam folder LATIHAN_PYTHON, buatlah folder dengan nama latihan_package, file main.py, dan file `__init__.py` \n",
        "3. Dalam latihan_package, buatlah 2 file, dengan nama alpha.py dan beta.py"
      ]
    },
    {
      "cell_type": "code",
      "metadata": {
        "id": "q62QxXnHPzC5",
        "colab_type": "code",
        "colab": {}
      },
      "source": [
        "#alpha.py\n",
        "# def alphaSatu():\n",
        "# \tprint(\"alpha   Satu\")\n",
        "\n",
        "# def alphaDua():\n",
        "# \tprint(\"alphaDua\")\n",
        "\n",
        "#beta.py\n",
        "# def betaSatu():\n",
        "# \tprint(\"betaSatu\")\n",
        "\n",
        "# def betaDua():\n",
        "# \tprint(\"betaDua\")\n",
        "\n",
        "#main.py\n",
        "\n",
        "# import latihan_package.alpha as a\n",
        "# import latihan_package.beta as b\n",
        "\n",
        "# a.alphaSatu()\n",
        "\n"
      ],
      "execution_count": null,
      "outputs": []
    },
    {
      "cell_type": "code",
      "metadata": {
        "id": "bP86t73OPzC9",
        "colab_type": "code",
        "colab": {}
      },
      "source": [
        "#cara mengakses package yang dibuat, copy dan paste code dalam file main.py\n",
        "\n",
        "import os\n",
        "\n",
        "os.chdir(r\"E:\\CTA\\DIGITAL TALENT\\digital-talent\\2019\\LATIHAN_PYTHON\")\n",
        "\n",
        "import latihan_package.alpha as a, latihan_package.beta as b\n",
        "\n",
        "a.alphaSatu()\n",
        "b.betaSatu()"
      ],
      "execution_count": null,
      "outputs": []
    },
    {
      "cell_type": "code",
      "metadata": {
        "id": "yBnFUUiDPzDB",
        "colab_type": "code",
        "colab": {}
      },
      "source": [
        "os.chdir(r\"E:\\CTA\\DIGITAL TALENT\\digital-talent\\2019\")"
      ],
      "execution_count": null,
      "outputs": []
    },
    {
      "cell_type": "code",
      "metadata": {
        "id": "KwRjRAenPzDF",
        "colab_type": "code",
        "colab": {}
      },
      "source": [
        "os.getcwd()"
      ],
      "execution_count": null,
      "outputs": []
    },
    {
      "cell_type": "markdown",
      "metadata": {
        "id": "_t3uiC_6PzDI",
        "colab_type": "text"
      },
      "source": [
        "#### Konsep package\n",
        "\n",
        "![pacakgetree.PNG](attachment:pacakgetree.PNG)\n",
        "\n",
        "`packages`, like modules, may require initialization.\n",
        "\n",
        "Python expects that there is a file with a very unique name inside the package's folder:`__init__.py.`\n",
        "\n",
        "The content of the file is executed when any of the package's modules is imported. \n",
        "\n",
        "If you don't want any special initializations, you can leave the __file empty__, but you mustn't omit it.\n",
        "\n"
      ]
    },
    {
      "cell_type": "code",
      "metadata": {
        "id": "YiGwNhWMPzDJ",
        "colab_type": "code",
        "colab": {}
      },
      "source": [
        "os.chdir(r\"E:\\CTA\\DIGITAL TALENT\\digital-talent\\2019\")\n",
        "\n",
        "import latihan_package.alpha as a\n",
        "a.alphaSatu()"
      ],
      "execution_count": null,
      "outputs": []
    },
    {
      "cell_type": "code",
      "metadata": {
        "id": "JFo6LdvAPzDM",
        "colab_type": "code",
        "colab": {}
      },
      "source": [
        "import alpha\n",
        "\n",
        "alpha.alphaSatu()"
      ],
      "execution_count": null,
      "outputs": []
    },
    {
      "cell_type": "markdown",
      "metadata": {
        "id": "eM5ilH5oPzDR",
        "colab_type": "text"
      },
      "source": [
        "# Errors, failures, and other "
      ]
    },
    {
      "cell_type": "markdown",
      "metadata": {
        "id": "yr0vr4RBPzDS",
        "colab_type": "text"
      },
      "source": [
        "Kesalahan merupakan hal yang sering terjadi dalam proses pembuatan pemrograman. \n",
        "\n",
        "Sebab terjadinya kesalahan:\n",
        "- Kesalahan dalam penulisan kode, sehingga kode tidak dapat dijalankan sama sekali\n",
        "- Kesalahan yang terjadi ketika program sedang di eksekusi\n",
        "\n",
        "Dua buah cara yang dapat digunakan untuk memeriksa suatu kesalahan:\n",
        "- menggunakan blok `try....except`\n",
        "- menggunakan statement `assert`"
      ]
    },
    {
      "cell_type": "markdown",
      "metadata": {
        "id": "hNLZHL3rPzDT",
        "colab_type": "text"
      },
      "source": [
        "# Eksepsi"
      ]
    },
    {
      "cell_type": "markdown",
      "metadata": {
        "id": "RHTBSVYbPzDU",
        "colab_type": "text"
      },
      "source": [
        "Merupakan kesalahan yang terjadi pada saat proses eksekusi program, dan akan mengacaukan alur dari perintah-perintah normal yang terdapat di dalam program."
      ]
    },
    {
      "cell_type": "markdown",
      "metadata": {
        "id": "SKVhWWhoPzDU",
        "colab_type": "text"
      },
      "source": [
        "Pada kode di bawah masih memungkinkan terjadi kesalahan, yaitu:\n",
        "- user menginputkan string, dan\n",
        "- user menginputkan bilangan negatif"
      ]
    },
    {
      "cell_type": "code",
      "metadata": {
        "id": "u2N_oCboPzDV",
        "colab_type": "code",
        "colab": {}
      },
      "source": [
        "import math\n",
        "\n",
        "x = float(input(\"Enter x: \"))\n",
        "y = math.sqrt(x)\n",
        "\n",
        "print(\"The square root of\", x, \"equals to\", y)"
      ],
      "execution_count": null,
      "outputs": []
    },
    {
      "cell_type": "code",
      "metadata": {
        "id": "G8k99JqVPzDZ",
        "colab_type": "code",
        "colab": {}
      },
      "source": [
        "x = float(input(\"Enter x: \"))\n",
        "y = math.sqrt(x)\n",
        "\n",
        "print(\"The square root of\", X, \"equals to\", y)"
      ],
      "execution_count": null,
      "outputs": []
    },
    {
      "cell_type": "code",
      "metadata": {
        "id": "Ktl-Q7AkPzDc",
        "colab_type": "code",
        "colab": {}
      },
      "source": [
        "value = 1\n",
        "value /= 0"
      ],
      "execution_count": null,
      "outputs": []
    },
    {
      "cell_type": "markdown",
      "metadata": {
        "id": "JX21O1oUPzDi",
        "colab_type": "text"
      },
      "source": [
        "`NameError`, `ValueError`, `ZeroDvisionError` merupakan eksepsi untuk mengatasi kesalahan-kesalahan yang terjadi seperti contoh diatas"
      ]
    },
    {
      "cell_type": "markdown",
      "metadata": {
        "id": "W8dzBTpxPzDj",
        "colab_type": "text"
      },
      "source": [
        "Kedua aktivitas ini disebut __memunculkan(raising) eksepsi__. Kita dapat mengatakan bahwa Python selalu memunculkan eksepsi (atau bahwa eksepsi telah dimunculkan) ketika ia tidak tahu apa yang harus dilakukan dengan kode Anda. Yang menyebabkan:\n",
        "\n",
        "- eksepsi mengharapkan ada sebuah perintah yang dapat menangani atau mencegah terjadinya kesalahan\n",
        "- jika tidak ada perintah untuk menangani atau mencegah terjadinya kesalahan tersebut, python akan menghentikan atau __terminated__ program, sehingga akan muncul pesan __error__\n",
        "- jika kesalahan dapat ditangani, python akan melanjutkan pada kode program selanjutnya"
      ]
    },
    {
      "cell_type": "markdown",
      "metadata": {
        "id": "JzEgPAF_PzDk",
        "colab_type": "text"
      },
      "source": [
        "### `try .... except`"
      ]
    },
    {
      "cell_type": "code",
      "metadata": {
        "id": "iBbzH4VXPzDl",
        "colab_type": "code",
        "colab": {}
      },
      "source": [
        "firstNumber = int(input(\"Enter the first number: \"))\n",
        "secondNumber = int(input(\"Enter the second number: \"))\n",
        "\n",
        "if secondNumber != 0:\n",
        "    print(firstNumber / secondNumber)\n",
        "else:\n",
        "    print(\"This operation cannot be done.\")\n",
        "\n",
        "print(\"THE END.\")"
      ],
      "execution_count": null,
      "outputs": []
    },
    {
      "cell_type": "markdown",
      "metadata": {
        "id": "TViqqjqrPzDt",
        "colab_type": "text"
      },
      "source": [
        "Cara penanganan kesalahan seperti kode diatas dapat digunakan, tetapi memiliki kelemahan karena kode program dapat menjadi sangat kompleks dan besar"
      ]
    },
    {
      "cell_type": "markdown",
      "metadata": {
        "id": "sVywulIzPzDu",
        "colab_type": "text"
      },
      "source": [
        "Untuk menangani ekspesi, python memanfaatkan blok yang disebut dengan `try...except`, dengan bentuk umum:\n",
        "\n",
        "___try___:\n",
        "    kode \n",
        "    .....\n",
        "___except TipeEksekusi___:\n",
        "    penanganan kesalahan\n",
        "    \n",
        "    \n",
        "    \n",
        "Jika kita mempunyaki kode-kode \"mencurigakan\" yang mungkin dapat menimpilkan eksepsi,kita perlu menyimpan kode tersebut pada blok __try__. \n",
        "\n",
        "Ketika kode berjalan normal, kode pada bagian __except__ tidak akan dieksekusi. Sebaliknya jika terjadi kesalahan, maka eksekusi kode di bagian __try__ akan dihentikan, dan program akan mengeksekusi pada bagian __except__"
      ]
    },
    {
      "cell_type": "code",
      "metadata": {
        "id": "NBs8PWr3PzDv",
        "colab_type": "code",
        "colab": {}
      },
      "source": [
        "try:\n",
        "    firstNumber = int(input(\"Enter the first number: \"))\n",
        "    secondNumber = int(input(\"Enter the second number: \"))\n",
        "    print(firstNumber / secondNumber)\n",
        "except:\n",
        "    print(\"This operation cannot be done.\")\n",
        "\n",
        "print(\"THE END.\")"
      ],
      "execution_count": null,
      "outputs": []
    },
    {
      "cell_type": "code",
      "metadata": {
        "id": "QM_podR2PzD3",
        "colab_type": "code",
        "colab": {}
      },
      "source": [
        "try:\n",
        "    print(\"1\")\n",
        "    x = 1 / 0\n",
        "    print(\"2\")\n",
        "except:\n",
        "    print(\"Oh dear, something went wrong...\")\n",
        "\n",
        "print(\"3\")"
      ],
      "execution_count": null,
      "outputs": []
    },
    {
      "cell_type": "markdown",
      "metadata": {
        "id": "XbmJScnCPzD9",
        "colab_type": "text"
      },
      "source": [
        "Block `try ...  except` dapat digunakan untuk menangani lebih dari satu eksepsi, dengan menggunkan bentuk umum: \n",
        "\n",
        "try:\n",
        "    :\n",
        "except exc1:\n",
        "    :\n",
        "except exc2:\n",
        "    :\n",
        "except:\n",
        "    :\n",
        "    \n",
        "Satu atau beberapa statement yang terdapat dalam blok `try` dapat menimbulkan lebih dari satu tipe ekspesi. "
      ]
    },
    {
      "cell_type": "code",
      "metadata": {
        "id": "H8uul4hNPzD9",
        "colab_type": "code",
        "colab": {}
      },
      "source": [
        "try:\n",
        "    x = int(input(\"Enter a number: \"))\n",
        "    y = 1 / x\n",
        "    print(y)\n",
        "except ZeroDivisionError:\n",
        "    print(\"You cannot divide by zero, sorry.\")\n",
        "except ValueError:\n",
        "    print(\"You must enter an integer value.\")\n",
        "except:\n",
        "    print(\"Oh dear, something went wrong...\")\n",
        "\n",
        "print(\"THE END.\")"
      ],
      "execution_count": null,
      "outputs": []
    },
    {
      "cell_type": "markdown",
      "metadata": {
        "id": "Fxkk324PPzEB",
        "colab_type": "text"
      },
      "source": [
        "Percobaan:\n",
        "- Inputkan bilangan integer (e.g., 5)\n",
        "- Inputkan 0\n",
        "- Inputkan data non-integer\n"
      ]
    },
    {
      "cell_type": "markdown",
      "metadata": {
        "id": "ijcUre5FPzED",
        "colab_type": "text"
      },
      "source": [
        "### Built-in Exception"
      ]
    },
    {
      "cell_type": "markdown",
      "metadata": {
        "id": "7jPcwBicPzED",
        "colab_type": "text"
      },
      "source": [
        "Python 3 menyediakan 63 built-in exceptions dan semuanya membentuk pohon hirarki\n",
        "\n",
        "![exceptions.PNG](attachment:exceptions.PNG)\n",
        "\n",
        "\n",
        "- ZeroDivisionError merupakan spesial kasus dari kelas eksepsi ArithmeticError;\n",
        "- ArithmeticError merupakan spesial kasus dari kelas eksepsi Exception;\n",
        "- Exception merupakan spesial kasus dari kelas eksepsi BaseException;"
      ]
    },
    {
      "cell_type": "code",
      "metadata": {
        "id": "NPLGMhouPzEE",
        "colab_type": "code",
        "colab": {}
      },
      "source": [
        "try:\n",
        "    y = 1 / 0\n",
        "except ZeroDivisionError:\n",
        "    print(\"Oooppsss...\")\n",
        "\n",
        "print(\"THE END.\")\n",
        "\n",
        "# Ubah ZeroDivisionError dengan ArithmeticError, Exception dan BaseException"
      ],
      "execution_count": null,
      "outputs": []
    },
    {
      "cell_type": "markdown",
      "metadata": {
        "id": "EWYuOdeGPzEI",
        "colab_type": "text"
      },
      "source": [
        "Jika eksepsi muncul di dalam fungsi, maka eksepsi itu dapat ditangani dengan dua cara:\n",
        "- di dalam fungsi\n",
        "- di luar fungsi"
      ]
    },
    {
      "cell_type": "code",
      "metadata": {
        "id": "3DQ7tgd4PzEJ",
        "colab_type": "code",
        "colab": {}
      },
      "source": [
        "def badFun(n):\n",
        "    try:\n",
        "        return 1 / n\n",
        "    except ArithmeticError:\n",
        "        print(\"Arithmetic Problem!\")\n",
        "    return None\n",
        "\n",
        "badFun(0)\n",
        "\n",
        "print(\"THE END.\")"
      ],
      "execution_count": null,
      "outputs": []
    },
    {
      "cell_type": "code",
      "metadata": {
        "id": "1odKYRLgPzEM",
        "colab_type": "code",
        "colab": {}
      },
      "source": [
        "def badFun(n):\n",
        "    return 1 / n\n",
        "\n",
        "try:\n",
        "    badFun(0)\n",
        "except ArithmeticError:\n",
        "    print(\"What happened? An exception was raised!\")\n",
        "\n",
        "print(\"THE END.\")"
      ],
      "execution_count": null,
      "outputs": []
    },
    {
      "cell_type": "markdown",
      "metadata": {
        "id": "qVNRN1jiPzES",
        "colab_type": "text"
      },
      "source": [
        "## `Raise`"
      ]
    },
    {
      "cell_type": "markdown",
      "metadata": {
        "id": "QOYoBw-uPzET",
        "colab_type": "text"
      },
      "source": [
        "Eksepsi tertentu dapat kita panggil secara pakasa dengan menggunakan perintah `raise`, meskipun sebenarnya ada kejadian yang menyebabkan jenis kesalahan tersebut"
      ]
    },
    {
      "cell_type": "markdown",
      "metadata": {
        "id": "1VsOMsAUPzEU",
        "colab_type": "text"
      },
      "source": [
        ""
      ]
    },
    {
      "cell_type": "code",
      "metadata": {
        "id": "nStMH_kXPzEU",
        "colab_type": "code",
        "colab": {}
      },
      "source": [
        "def badFun(n):\n",
        "    raise ZeroDivisionError"
      ],
      "execution_count": null,
      "outputs": []
    },
    {
      "cell_type": "markdown",
      "metadata": {
        "id": "LP1tqQpUPzEY",
        "colab_type": "text"
      },
      "source": [
        "`raise` digunakan untuk memanggil secara paksa dari suatu eksepsi, meskipun tidak ada kejadian yang menyebabkan jenis kesalahan tersebut."
      ]
    },
    {
      "cell_type": "code",
      "metadata": {
        "id": "0IIL-QEbPzEZ",
        "colab_type": "code",
        "colab": {}
      },
      "source": [
        "def badFun(n):\n",
        "    1/n\n",
        "    raise ZeroDivisionError\n",
        "\n",
        "try:\n",
        "    badFun(0)\n",
        "except ArithmeticError:\n",
        "    print(\"What happened? An error?\")\n",
        "\n",
        "print(\"THE END.\")"
      ],
      "execution_count": null,
      "outputs": []
    },
    {
      "cell_type": "markdown",
      "metadata": {
        "id": "E8RhI4I1PzEc",
        "colab_type": "text"
      },
      "source": [
        ""
      ]
    },
    {
      "cell_type": "code",
      "metadata": {
        "id": "hTC9yII9PzEf",
        "colab_type": "code",
        "colab": {}
      },
      "source": [
        "def badFun(n):\n",
        "    try:\n",
        "        return n / 0\n",
        "    except:\n",
        "        print(\"I did it again!\")\n",
        "        raise\n",
        "\n",
        "try:\n",
        "    badFun(1)\n",
        "except ArithmeticError:\n",
        "    print(\"I see!\")\n",
        "\n",
        "print(\"THE END.\")"
      ],
      "execution_count": null,
      "outputs": []
    },
    {
      "cell_type": "markdown",
      "metadata": {
        "id": "25f3jfOjPzEm",
        "colab_type": "text"
      },
      "source": [
        "Pemanggilan `raise` tanpa nama eksepsi hanya dapat dilakukan di dalam bagian `except`\n",
        "\n",
        "Dari kode di atas `ZeroDivisionError` muncul sebanyak dua kali, yaitu:\n",
        "- di dalam `try`\n",
        "- di bagian`except` di dalam fungsi\n"
      ]
    },
    {
      "cell_type": "markdown",
      "metadata": {
        "id": "G6mXxLmQPzEn",
        "colab_type": "text"
      },
      "source": [
        "## Assert\n",
        "\n",
        "`assert expression`"
      ]
    },
    {
      "cell_type": "markdown",
      "metadata": {
        "id": "n7X4H14jPzEn",
        "colab_type": "text"
      },
      "source": [
        "Fungsi assertion:\n",
        "\n",
        "- Assert akan mengevaluasi ekspresi\n",
        "- Jika ekspresi bernilai True atau nilai numerik bukan nol, atau string tidak kosong, atau nilai lain yang berbeda dari `None` tidak akan di eksekusi\n",
        "- Jika selain itu akan muncul eksepsi `AssertionError`\n",
        "\n",
        "Penggunaan assertion:\n",
        "- kita dapat menggunakan assertion jika kita ingin kode yang dibuat benar-benar aman dari data kita belum yakin kebenarannya\n",
        "- mengamankan kode dari hasil yang tidak valid\n",
        "- assertion merupakan pelengkap `exception`"
      ]
    },
    {
      "cell_type": "code",
      "metadata": {
        "id": "lw1RJBQQPzEo",
        "colab_type": "code",
        "colab": {}
      },
      "source": [
        "import math\n",
        "\n",
        "x = float(input(\"Enter a number: \"))\n",
        "assert x >= 0.0\n",
        "\n",
        "x = math.sqrt(x)\n",
        "\n",
        "print(x)"
      ],
      "execution_count": null,
      "outputs": []
    },
    {
      "cell_type": "markdown",
      "metadata": {
        "id": "9QhMglSqPzEs",
        "colab_type": "text"
      },
      "source": [
        "# Strings"
      ]
    },
    {
      "cell_type": "markdown",
      "metadata": {
        "id": "uutFBV0TPzEw",
        "colab_type": "text"
      },
      "source": [
        "Computers store characters as numbers\n",
        "\n",
        "Every character used by a computer corresponds to a unique number, and vice versa\n",
        "\n",
        "Some of these characters are called whitespaces, while others are named control characters, because their purpose is to control input/output devices.\n",
        "\n",
        "ASCII (short for American Standard Code for Information Interchange) is the most widely used, and you can assume that nearly all modern devices (like computers, printers, mobile phones, tablets, etc.) use that code.\n",
        "\n",
        "The code provides space for 256 different characters"
      ]
    },
    {
      "cell_type": "markdown",
      "metadata": {
        "id": "eajNBSObPzEx",
        "colab_type": "text"
      },
      "source": [
        "## I18N\n",
        "\n",
        "The software I18N is a standard in present times. Each program has to be written in a way that enables it to be used all around the world, among different cultures, languages and alphabets.\n",
        "\n",
        "### Code points and code pages\n",
        "\n",
        "A code point is a number which makes a character. For example, 32 is a code point which makes a space in ASCII encoding. We can say that standard ASCII code consists of 128 code points.\n",
        "\n",
        "A code page is a standard for using the upper 128 code points to store specific national characters. \n",
        "\n",
        "For example, the code point 200 makes Č (a letter used by some Slavic languages) when utilized by the ISO/IEC 8859-2 code page, and makes Ш (a Cyrillic letter) when used by the ISO/IEC 8859-5 code page."
      ]
    },
    {
      "cell_type": "markdown",
      "metadata": {
        "id": "RscEMmVKPzEy",
        "colab_type": "text"
      },
      "source": [
        "## Unicode\n"
      ]
    },
    {
      "cell_type": "markdown",
      "metadata": {
        "id": "M7qQKUFZPzEy",
        "colab_type": "text"
      },
      "source": [
        "Code pages helped the computer industry to solve I18N issues for some time, but it soon turned out that they would not be a permanent solution.\n",
        "\n",
        "Unicode assigns unique (unambiguous) characters (letters, hyphens, ideograms, etc.) to more than a million code points. The first 128 Unicode code points are identical to ASCII, and the first 256 Unicode code points are identical to the ISO/IEC 8859-1 code page (a code page designed for western European languages)."
      ]
    },
    {
      "cell_type": "markdown",
      "metadata": {
        "id": "tOrNAUJWPzEz",
        "colab_type": "text"
      },
      "source": [
        "# The Nature of Strings in Python"
      ]
    },
    {
      "cell_type": "markdown",
      "metadata": {
        "id": "LjaefMmDPzE2",
        "colab_type": "text"
      },
      "source": [
        "Python's strings are immutable sequences.\n",
        "\n",
        "The `len()` function used for strings returns a number of characters contained by the arguments."
      ]
    },
    {
      "cell_type": "code",
      "metadata": {
        "id": "4hf4UuCfPzE3",
        "colab_type": "code",
        "colab": {}
      },
      "source": [
        "# Example 1\n",
        "word = 'by'\n",
        "print(len(word))\n",
        "\n",
        "# Example 2\n",
        "empty = ''\n",
        "print(len(empty))\n",
        "\n",
        "# Example 3\n",
        "i_am = 'I\\'m'\n",
        "print(i_am)\n",
        "print(len(i_am))"
      ],
      "execution_count": null,
      "outputs": []
    },
    {
      "cell_type": "markdown",
      "metadata": {
        "id": "Zcn1TRQ_PzE6",
        "colab_type": "text"
      },
      "source": [
        "`Multiline strings`\n",
        "\n",
        "The string starts with three apostrophes, not one. The same tripled apostrophe is used to terminate it."
      ]
    },
    {
      "cell_type": "code",
      "metadata": {
        "id": "d0UhIKHfPzE7",
        "colab_type": "code",
        "colab": {}
      },
      "source": [
        "multiLine = '''Line #1  \n",
        "disini string\n",
        "lagi\n",
        "Line #2'''\n",
        "\n",
        "print(len(multiLine))\n",
        "\n",
        "# The missing character is simply invisible - it's a whitespace."
      ],
      "execution_count": null,
      "outputs": []
    },
    {
      "cell_type": "code",
      "metadata": {
        "id": "pEn_xuJyPzFA",
        "colab_type": "code",
        "colab": {}
      },
      "source": [
        "multiLine = \"\"\"Line #1\n",
        "Line #2\"\"\"\n",
        "\n",
        "print(len(multiLine))"
      ],
      "execution_count": null,
      "outputs": []
    },
    {
      "cell_type": "code",
      "metadata": {
        "id": "1mXeapoNPzFG",
        "colab_type": "code",
        "colab": {}
      },
      "source": [
        "multiLine = 'Line #1\n",
        "Line #2'\n",
        "\n",
        "print(len(multiLine))"
      ],
      "execution_count": null,
      "outputs": []
    },
    {
      "cell_type": "markdown",
      "metadata": {
        "id": "6cL74EvWPzFK",
        "colab_type": "text"
      },
      "source": [
        "### Operations on strings\n",
        "\n",
        "In general, strings can be:\n",
        "\n",
        "- concatenated (joined) (`+`)\n",
        "    The + operator used against two or more strings produces a new string containing all the characters from its arguments\n",
        "- replicated. (`*`)\n",
        "    The * operator needs a string and a number as arguments; in this case, the order doesn't matter - you can put the number before the string, or vice versa, the result will be the same\n",
        "\n"
      ]
    },
    {
      "cell_type": "code",
      "metadata": {
        "id": "8UagfSERPzFL",
        "colab_type": "code",
        "colab": {}
      },
      "source": [
        "str1 = 'a'\n",
        "str2 = 'b'\n",
        "\n",
        "print(str1 + str2)\n",
        "print(str2 + str1)\n",
        "print(5 * 'halo ')\n",
        "print('b' * 4)"
      ],
      "execution_count": null,
      "outputs": []
    },
    {
      "cell_type": "markdown",
      "metadata": {
        "id": "24sefCymPzFP",
        "colab_type": "text"
      },
      "source": [
        "### Operations on strings: ord()"
      ]
    },
    {
      "cell_type": "markdown",
      "metadata": {
        "id": "GmGAYq_yPzFR",
        "colab_type": "text"
      },
      "source": [
        "If you want to know a specific character's ASCII/UNICODE code point value, you can use a function named ord() (as in ordinal)."
      ]
    },
    {
      "cell_type": "code",
      "metadata": {
        "id": "zoQespplPzFR",
        "colab_type": "code",
        "colab": {}
      },
      "source": [
        "# Demonstrating the ord() function\n",
        "\n",
        "ch1 = 'a' \n",
        "ch2 = ' ' # space\n",
        "\n",
        "print(ord(ch1))\n",
        "print(ord(ch2))"
      ],
      "execution_count": null,
      "outputs": []
    },
    {
      "cell_type": "markdown",
      "metadata": {
        "id": "zrnYAexSPzFV",
        "colab_type": "text"
      },
      "source": [
        "### Operations on strings: chr()"
      ]
    },
    {
      "cell_type": "markdown",
      "metadata": {
        "id": "JVzH3m1PPzFW",
        "colab_type": "text"
      },
      "source": [
        "The function takes a code point and returns its character."
      ]
    },
    {
      "cell_type": "code",
      "metadata": {
        "id": "pa5XSVxbPzFX",
        "colab_type": "code",
        "colab": {}
      },
      "source": [
        "# Demonstrating the chr() function\n",
        "\n",
        "print(chr(97))\n",
        "print(chr(945))"
      ],
      "execution_count": null,
      "outputs": []
    },
    {
      "cell_type": "code",
      "metadata": {
        "id": "MlUES6-1PzFa",
        "colab_type": "code",
        "colab": {}
      },
      "source": [
        "x = 'a'\n",
        "chr(ord(x)) == x\n",
        "x = 90\n",
        "ord(chr(x)) == x"
      ],
      "execution_count": null,
      "outputs": []
    },
    {
      "cell_type": "markdown",
      "metadata": {
        "id": "XyPgGDlsPzFd",
        "colab_type": "text"
      },
      "source": [
        "### Strings as sequences: indexing"
      ]
    },
    {
      "cell_type": "markdown",
      "metadata": {
        "id": "O8akXmVLPzFd",
        "colab_type": "text"
      },
      "source": [
        "__Python's strings are sequences.__\n",
        "\n",
        "Strings aren't lists, but __you can treat them like lists in many particular cases__."
      ]
    },
    {
      "cell_type": "code",
      "metadata": {
        "id": "7JpBL16NPzFe",
        "colab_type": "code",
        "colab": {}
      },
      "source": [
        "# If you want to access any of a string's characters, you can do it using indexing,\n",
        "# Indexing strings\n",
        "\n",
        "exampleString = 'CIKARANG'\n",
        "vokal = ['a','i','u','e','o']\n",
        "for i in range(len(exampleString)):\n",
        "    if exampleString[i].lower() in vokal:\n",
        "        continue\n",
        "    print(exampleString[i], end=\"\")"
      ],
      "execution_count": null,
      "outputs": []
    },
    {
      "cell_type": "markdown",
      "metadata": {
        "id": "owKeVh2OPzFg",
        "colab_type": "text"
      },
      "source": [
        "### Strings as sequences: iterating\n",
        "\n",
        "__Iterating through the strings works__, too."
      ]
    },
    {
      "cell_type": "code",
      "metadata": {
        "id": "CAJ5opm_PzFh",
        "colab_type": "code",
        "colab": {}
      },
      "source": [
        "# Iterating through a string\n",
        "\n",
        "exampleString = 'silly walks'\n",
        "\n",
        "for ch in exampleString:\n",
        "    print(ch, end='*')\n",
        "\n",
        "print()"
      ],
      "execution_count": null,
      "outputs": []
    },
    {
      "cell_type": "markdown",
      "metadata": {
        "id": "jhgkqSVSPzFj",
        "colab_type": "text"
      },
      "source": [
        "### Slices"
      ]
    },
    {
      "cell_type": "code",
      "metadata": {
        "id": "P145gM2GPzFk",
        "colab_type": "code",
        "colab": {}
      },
      "source": [
        "# Slices\n",
        "\n",
        "alpha = \"BPPTIK CIKARANG\"\n",
        "\n",
        "print(alpha[1::2])\n",
        "\n",
        "# print(alpha[1:3])\n",
        "# print(alpha[3:])\n",
        "# print(alpha[:3])\n",
        "print(alpha[3:-2])\n",
        "# print(alpha[-3:4])\n",
        "# print(alpha[::2])\n",
        "# print(alpha[1::2])"
      ],
      "execution_count": null,
      "outputs": []
    },
    {
      "cell_type": "markdown",
      "metadata": {
        "id": "JP7P9MxaPzFm",
        "colab_type": "raw"
      },
      "source": [
        "The `in` and `not in` operators\n",
        "\n",
        "The `in` operator checks if its left argument (a string) can be found anywhere within the right argument (another string).\n",
        "\n",
        "The result of the check is simply `True` or `False`"
      ]
    },
    {
      "cell_type": "code",
      "metadata": {
        "id": "W2ym7FUZPzFn",
        "colab_type": "code",
        "colab": {}
      },
      "source": [
        "alphabet = 'abcdefghijklmnopqrstuvwxyz'\n",
        "\n",
        "print(\"f\" in alphabet)\n",
        "print(\"F\" in alphabet)\n",
        "print(\"1\" in alphabet)\n",
        "print(\"ghi\" in alphabet)\n",
        "print(\"Xyz\" in alphabet)"
      ],
      "execution_count": null,
      "outputs": []
    },
    {
      "cell_type": "code",
      "metadata": {
        "id": "wdiGYzGwPzFp",
        "colab_type": "code",
        "colab": {}
      },
      "source": [
        "alphabet = \"abcdefghijklmnopqrstuvwxyz\"\n",
        "\n",
        "print(\"f\" not in alphabet)\n",
        "print(\"F\" not in alphabet)\n",
        "print(\"1\" not in alphabet)\n",
        "print(\"ghi\" not in alphabet)\n",
        "print(\"Xyz\" not in alphabet)"
      ],
      "execution_count": null,
      "outputs": []
    },
    {
      "cell_type": "markdown",
      "metadata": {
        "id": "OyZtnEaBPzFs",
        "colab_type": "text"
      },
      "source": [
        "### Python strings are immutable"
      ]
    },
    {
      "cell_type": "markdown",
      "metadata": {
        "id": "6FSfPUQRPzFs",
        "colab_type": "text"
      },
      "source": [
        "- It doesn't allow you to use the `del` instruction to remove anything from a string.\n",
        "- You can do with del and a string is to remove the string as a whole.\n",
        "- Python strings don't have the `append()` method\n",
        "- The `insert()` method is __illegal__, too"
      ]
    },
    {
      "cell_type": "code",
      "metadata": {
        "id": "CDDRdWAHPzFs",
        "colab_type": "code",
        "colab": {}
      },
      "source": [
        "alphabet = \"abcdefghijklmnopqrstuvwxyz\"\n",
        "\n",
        "del alphabet[0]"
      ],
      "execution_count": null,
      "outputs": []
    },
    {
      "cell_type": "code",
      "metadata": {
        "id": "7Ysq5H5PPzFz",
        "colab_type": "code",
        "colab": {}
      },
      "source": [
        "alphabet = \"abcdefghijklmnopqrstuvwxyz\"\n",
        "\n",
        "alphabet.append(\"A\")"
      ],
      "execution_count": null,
      "outputs": []
    },
    {
      "cell_type": "code",
      "metadata": {
        "id": "oaTHa6N5PzF3",
        "colab_type": "code",
        "colab": {}
      },
      "source": [
        "alphabet = \"abcdefghijklmnopqrstuvwxyz\"\n",
        "\n",
        "alphabet.insert(0, \"A\")"
      ],
      "execution_count": null,
      "outputs": []
    },
    {
      "cell_type": "markdown",
      "metadata": {
        "id": "EeD9ea1dPzF7",
        "colab_type": "text"
      },
      "source": [
        "### Operations on strings: min()\n",
        "\n",
        "The function finds the __minimum element__ of the sequence passed as an argument.\n",
        "\n",
        "There is one condition - the sequence (string, list, it doesn't matter) cannot be empty"
      ]
    },
    {
      "cell_type": "code",
      "metadata": {
        "id": "56LfF9T8PzF7",
        "colab_type": "code",
        "colab": {}
      },
      "source": [
        "# Demonstrating min() - Example 1\n",
        "print(min(\"aAbByYzZ\"))\n",
        "\n",
        "\n",
        "# Demonstrating min() - Examples 2 & 3\n",
        "t = 'The Knights Who Say \"Ni!\"'\n",
        "print('[' + min(t) + ']')\n",
        "\n",
        "t = [0, 1, 2]\n",
        "print(min(t))"
      ],
      "execution_count": null,
      "outputs": []
    },
    {
      "cell_type": "markdown",
      "metadata": {
        "id": "dRK8-d3jPzGA",
        "colab_type": "text"
      },
      "source": [
        "### Operations on strings: max()"
      ]
    },
    {
      "cell_type": "markdown",
      "metadata": {
        "id": "6In59e6HPzGA",
        "colab_type": "text"
      },
      "source": [
        "A function named `max()` finds the maximum element of the sequence."
      ]
    },
    {
      "cell_type": "code",
      "metadata": {
        "id": "eoIJmrxKPzGC",
        "colab_type": "code",
        "colab": {}
      },
      "source": [
        "# Demonstrating max() - Example 1\n",
        "print(max(\"aAbByYzZ\"))\n",
        "\n",
        "\n",
        "# Demonstrating max() - Examples 2 & 3\n",
        "t = 'The Knights Who Say \"Ni!\"'\n",
        "print('[' + max(t) + ']')\n",
        "\n",
        "t = [0, 1, 2]\n",
        "print(max(t))"
      ],
      "execution_count": null,
      "outputs": []
    },
    {
      "cell_type": "markdown",
      "metadata": {
        "id": "ezjzxt-tPzGF",
        "colab_type": "text"
      },
      "source": [
        "### Operations on strings: the `index()` method"
      ]
    },
    {
      "cell_type": "markdown",
      "metadata": {
        "id": "sbxQV3lVPzGG",
        "colab_type": "text"
      },
      "source": [
        "The `index()` method (it's a method, not a function) searches the sequence from the beginning, in order to find the first element of the value specified in its argument.\n",
        "\n",
        "The element searched for must occur in the sequence - its absence will cause a ValueError exception.\n",
        "\n",
        "The method returns the index of the first occurrence of the argument which means that the lowest possible result is 0, while the highest is the length of argument decremented by 1."
      ]
    },
    {
      "cell_type": "code",
      "metadata": {
        "id": "KKm8yL4TPzGH",
        "colab_type": "code",
        "colab": {}
      },
      "source": [
        "# Demonstrating the index() method\n",
        "print(\"aAbByYzZaA\".index(\"b\"))\n",
        "print(\"aAbByYzZaA\".index(\"Z\"))\n",
        "print(\"aAbByYzZaA\".index(\"A\"))"
      ],
      "execution_count": null,
      "outputs": []
    },
    {
      "cell_type": "markdown",
      "metadata": {
        "id": "kpoqD-UlPzGL",
        "colab_type": "text"
      },
      "source": [
        "### Operations on strings: the list() function"
      ]
    },
    {
      "cell_type": "markdown",
      "metadata": {
        "id": "dQ3A9bq4PzGL",
        "colab_type": "text"
      },
      "source": [
        "The list() function takes its argument (a string) and creates a new list containing all the string's characters, one per list element.\n",
        "\n",
        "`list()` is able to create a new list from many other entities (e.g., from tuples and dictionaries)."
      ]
    },
    {
      "cell_type": "markdown",
      "metadata": {
        "id": "S_TM61FxPzGM",
        "colab_type": "text"
      },
      "source": [
        "### Operations on strings: the count() method"
      ]
    },
    {
      "cell_type": "markdown",
      "metadata": {
        "id": "maL5tGI4PzGN",
        "colab_type": "text"
      },
      "source": [
        "The count() method counts all occurrences of the element inside the sequence. \n",
        "\n",
        "The absence of such elements doesn't cause any problems."
      ]
    },
    {
      "cell_type": "code",
      "metadata": {
        "id": "i8aXVxc5PzGO",
        "colab_type": "code",
        "colab": {}
      },
      "source": [
        "# Demonstrating the list() function\n",
        "print(list(\"abcabc\"))\n",
        "\n",
        "# Demonstrating the count() method\n",
        "print(\"abcabc\".count(\"b\"))\n",
        "print('abcabc'.count(\"d\"))"
      ],
      "execution_count": null,
      "outputs": []
    },
    {
      "cell_type": "markdown",
      "metadata": {
        "id": "Dl1kW8FYPzGR",
        "colab_type": "text"
      },
      "source": [
        "# String Method"
      ]
    },
    {
      "cell_type": "markdown",
      "metadata": {
        "id": "XKCMqQbcPzGS",
        "colab_type": "text"
      },
      "source": [
        "### The capitalize() method \n",
        "\n",
        "The capitalize() method creates a new string filled with characters taken from the source string, but it tries to modify them in the following way:\n",
        "\n",
        "- if the first character inside the string is a letter,  it will be converted to upper-case\n",
        "- all remaining letters from the string will be converted to lower-case."
      ]
    },
    {
      "cell_type": "code",
      "metadata": {
        "id": "Tp9PVLaqPzGT",
        "colab_type": "code",
        "colab": {}
      },
      "source": [
        "print(\"terima kasih selamat malam\".capitalize())\n",
        "print('ALPHA'.capitalize())\n",
        "print(' Alpha'.capitalize())\n",
        "print('123'.capitalize())\n",
        "print(\"αβγδ\".capitalize())"
      ],
      "execution_count": null,
      "outputs": []
    },
    {
      "cell_type": "markdown",
      "metadata": {
        "id": "acz8iRihPzGc",
        "colab_type": "text"
      },
      "source": [
        "### The center() method\n",
        "\n",
        "The `center()` method makes a copy of the original string, trying to center it inside a field of a specified width\n",
        "\n",
        "The centering is actually done by adding some spaces before and after the string."
      ]
    },
    {
      "cell_type": "code",
      "metadata": {
        "id": "OEjMFZkbPzGd",
        "colab_type": "code",
        "colab": {}
      },
      "source": [
        "print('[' + 'Beta'.center(2) + ']')\n",
        "print('[' + 'Beta'.center(8) + ']')\n",
        "print('[' + 'Beta'.center(20) + ']')"
      ],
      "execution_count": null,
      "outputs": []
    },
    {
      "cell_type": "markdown",
      "metadata": {
        "id": "aL0ugkIZPzGi",
        "colab_type": "text"
      },
      "source": [
        "The two-parameter variant of center() makes use of the character from the second argument, instead of a space."
      ]
    },
    {
      "cell_type": "code",
      "metadata": {
        "id": "-qHFuXMZPzGi",
        "colab_type": "code",
        "colab": {}
      },
      "source": [
        "print('[' + 'gamma'.center(20, '*') + ']')"
      ],
      "execution_count": null,
      "outputs": []
    },
    {
      "cell_type": "markdown",
      "metadata": {
        "id": "Yk2yBbscPzGm",
        "colab_type": "text"
      },
      "source": [
        "### The endswith() method"
      ]
    },
    {
      "cell_type": "markdown",
      "metadata": {
        "id": "K9FTWhsMPzGn",
        "colab_type": "text"
      },
      "source": [
        "The `endswith()` method checks if the given string ends with the specified argument and returns `True` or `False`, depending on the check result."
      ]
    },
    {
      "cell_type": "code",
      "metadata": {
        "id": "GCWcBscwPzGo",
        "colab_type": "code",
        "colab": {}
      },
      "source": [
        "t = \"zeta\"\n",
        "print(t.endswith(\"a\"))\n",
        "print(t.endswith(\"A\"))\n",
        "print(t.endswith(\"et\"))\n",
        "print(t.endswith(\"eta\"))"
      ],
      "execution_count": null,
      "outputs": []
    },
    {
      "cell_type": "code",
      "metadata": {
        "id": "SX1bclpdPzGq",
        "colab_type": "code",
        "colab": {}
      },
      "source": [
        "# Demonstrating the endswith() method\n",
        "if \"epsilon\".endswith(\"on\"):\n",
        "    print(\"yes\")\n",
        "else:\n",
        "    print(\"no\")"
      ],
      "execution_count": null,
      "outputs": []
    },
    {
      "cell_type": "markdown",
      "metadata": {
        "id": "J3rr0jexPzGt",
        "colab_type": "text"
      },
      "source": [
        "### The find() method\n",
        "\n",
        "The find() method is similar to index(), it looks for a substring and returns the index of first occurrence of this substring, but:\n",
        "\n",
        " it doesn't generate an error for an argument containing a non-existent substring\n",
        " \n",
        " it works with strings only\n",
        "\n"
      ]
    },
    {
      "cell_type": "code",
      "metadata": {
        "id": "hVcx4EsNPzGu",
        "colab_type": "code",
        "colab": {}
      },
      "source": [
        "t = 'theta'\n",
        "print(t.find('eta'))\n",
        "print(t.find('et'))\n",
        "print(t.find('the'))\n",
        "print(t.find('ha'))"
      ],
      "execution_count": null,
      "outputs": []
    },
    {
      "cell_type": "code",
      "metadata": {
        "id": "KIe5a53tPzGw",
        "colab_type": "code",
        "colab": {}
      },
      "source": [
        "print('kappa'.find('a', 2))\n",
        "\n",
        "# proses pencarian dimulai dari indeks ke dua, proses pencarian akan berhenti jika sudah ditemukan huruf 'a'"
      ],
      "execution_count": null,
      "outputs": []
    },
    {
      "cell_type": "code",
      "metadata": {
        "id": "oFfc0pJhPzGy",
        "colab_type": "code",
        "colab": {}
      },
      "source": [
        "txt = \"\"\"A variation of the ordinary lorem ipsum\n",
        "text has been used in typesetting since the 1960s \n",
        "or earlier, when it was popularized by advertisements \n",
        "for Letraset transfer sheets. It was introduced to \n",
        "the Information Age in the mid-1980s by the Aldus Corporation, \n",
        "which employed it in graphics and word-processing templates\n",
        "for its desktop publishing program PageMaker (from Wikipedia)\"\"\"\n",
        "\n",
        "fnd = txt.find('the')\n",
        "while fnd != -1:\n",
        "    print(fnd)\n",
        "    fnd = txt.find('the', fnd + 1)"
      ],
      "execution_count": null,
      "outputs": []
    },
    {
      "cell_type": "code",
      "metadata": {
        "id": "X0qMh8DpPzG0",
        "colab_type": "code",
        "colab": {}
      },
      "source": [
        "print('kappa'.find('a', 1, 4))\n",
        "print('kappa'.find('a', 2, 4))\n",
        "\n",
        "# argumen ketiga menunjuk ke indeks pertama yang tidak akan dipertimbangkan selama pencarian"
      ],
      "execution_count": null,
      "outputs": []
    },
    {
      "cell_type": "code",
      "metadata": {
        "id": "vsffYcUMPzG3",
        "colab_type": "code",
        "colab": {}
      },
      "source": [
        "# Demonstrating the find() method\n",
        "print(\"Eta\".find(\"ta\"))\n",
        "print(\"Eta\".find(\"mma\"))"
      ],
      "execution_count": null,
      "outputs": []
    },
    {
      "cell_type": "markdown",
      "metadata": {
        "id": "HNDxwVNmPzG5",
        "colab_type": "text"
      },
      "source": [
        "### The isalnum() method\n",
        "\n",
        "The parameterless method named isalnum() checks if the string contains only digits or alphabetical characters (letters), and returns True or False according to the result."
      ]
    },
    {
      "cell_type": "code",
      "metadata": {
        "id": "lrosCTImPzG5",
        "colab_type": "code",
        "colab": {}
      },
      "source": [
        "# Demonstrating the isalnum() method\n",
        "print('lambda30'.isalnum())\n",
        "print('lambda'.isalnum())\n",
        "print('30'.isalnum())\n",
        "print('@'.isalnum())\n",
        "print('lambda_30'.isalnum())\n",
        "print(''.isalnum())"
      ],
      "execution_count": null,
      "outputs": []
    },
    {
      "cell_type": "markdown",
      "metadata": {
        "id": "WFJ4REjOPzG8",
        "colab_type": "text"
      },
      "source": [
        "### The isalpha() method\n",
        "\n",
        "The isalpha() method is more specialized - it's interested in letters only.\n",
        "\n",
        "### The isdigit() method\n",
        "\n",
        "In turn, the isdigit() method looks at digits only"
      ]
    },
    {
      "cell_type": "code",
      "metadata": {
        "id": "3bP29BLzPzG8",
        "colab_type": "code",
        "colab": {}
      },
      "source": [
        "# Example 1: Demonstrating the isapha() method\n",
        "print(\"Moooo\".isalpha())\n",
        "print('Mu40'.isalpha())\n",
        "\n",
        "# Example 2: Demonstrating the isdigit() method\n",
        "print('2018'.isdigit())\n",
        "print(\"Year2019\".isdigit())"
      ],
      "execution_count": null,
      "outputs": []
    },
    {
      "cell_type": "markdown",
      "metadata": {
        "id": "LRN_FeA9PzHD",
        "colab_type": "text"
      },
      "source": [
        "### The islower() method\n",
        "\n",
        "The islower() method is a fussy variant of isalpha()\n",
        "\n",
        "It accepts lower-case letters only.\n",
        "\n",
        "### The isspace() method\n",
        "\n",
        "The isspace() method identifies whitespaces only\n",
        "\n",
        "### The isupper() method\n",
        "The isupper() method is the upper-case version of islower()\n",
        "\n",
        "It concentrates on upper-case letters only."
      ]
    },
    {
      "cell_type": "code",
      "metadata": {
        "id": "tq2WY4GfPzHE",
        "colab_type": "code",
        "colab": {}
      },
      "source": [
        "# Example 1: Demonstrating the islower() method\n",
        "print(\"Moooo\".islower())\n",
        "print('moooo'.islower())\n",
        "\n",
        "# Example 2: Demonstrating the isspace() method\n",
        "print(' \\n '.isspace())\n",
        "print(\" \".isspace())\n",
        "print(\"mooo mooo mooo\".isspace())\n",
        "\n",
        "# Example 3: Demonstrating the isupper() method\n",
        "print(\"Moooo\".isupper())\n",
        "print('moooo'.isupper())\n",
        "print('MOOOO'.isupper())"
      ],
      "execution_count": null,
      "outputs": []
    },
    {
      "cell_type": "markdown",
      "metadata": {
        "id": "SFVAffM8PzHK",
        "colab_type": "text"
      },
      "source": [
        "### The join() method"
      ]
    },
    {
      "cell_type": "code",
      "metadata": {
        "id": "ABZPah7rPzHL",
        "colab_type": "code",
        "colab": {}
      },
      "source": [
        "# Demonstrating the join() method\n",
        "print(\" \".join([\"omicron\", \"pi\", \"rho\"]))\n",
        "\n",
        "# the join() method is invoked from within a string containing a comma\n",
        "# the join's argument is a list containing three strings;\n",
        "# the method returns a new string."
      ],
      "execution_count": null,
      "outputs": []
    },
    {
      "cell_type": "markdown",
      "metadata": {
        "id": "E5ivYvbMPzHO",
        "colab_type": "text"
      },
      "source": [
        "### The lower() method\n",
        "\n",
        "The lower() method makes a copy of a source string, replaces all upper-case letters with their lower-case counterparts, and returns the string as the result."
      ]
    },
    {
      "cell_type": "code",
      "metadata": {
        "id": "Fi-lbuZTPzHO",
        "colab_type": "code",
        "colab": {}
      },
      "source": [
        "# Demonstrating the lower() method\n",
        "print(\"SiGmA=60\".lower())"
      ],
      "execution_count": null,
      "outputs": []
    },
    {
      "cell_type": "markdown",
      "metadata": {
        "id": "nm_V8p3bPzHU",
        "colab_type": "text"
      },
      "source": [
        "### The lstrip() method\n",
        "\n",
        "The parameterless lstrip() method returns a newly created string formed from the original one by removing all leading whitespaces.\n",
        "\n",
        "The one-parameter lstrip() method, removes all characters enlisted in its argument"
      ]
    },
    {
      "cell_type": "code",
      "metadata": {
        "id": "dmGwkRAyPzHV",
        "colab_type": "code",
        "colab": {}
      },
      "source": [
        "s = \"    tes\"\n",
        "print(s)\n",
        "print(s.lstrip())"
      ],
      "execution_count": null,
      "outputs": []
    },
    {
      "cell_type": "code",
      "metadata": {
        "id": "gbBHVIv4PzHY",
        "colab_type": "code",
        "colab": {}
      },
      "source": [
        "# Demonstrating the lstrip() method\n",
        "print(\"[\" + \" tau \".lstrip() + \"]\")"
      ],
      "execution_count": null,
      "outputs": []
    },
    {
      "cell_type": "code",
      "metadata": {
        "id": "70BhcayCPzHc",
        "colab_type": "code",
        "colab": {}
      },
      "source": [
        "print(\"www.ugm.com\".lstrip(\"w\"))\n",
        "print(\"pythoninstitute.org\".lstrip(\"institute\"))\n",
        "print(\"annisa maulida\".lstrip())"
      ],
      "execution_count": null,
      "outputs": []
    },
    {
      "cell_type": "markdown",
      "metadata": {
        "id": "a9falhnyPzHe",
        "colab_type": "text"
      },
      "source": [
        "### The replace() method"
      ]
    },
    {
      "cell_type": "markdown",
      "metadata": {
        "id": "WfBvd9CgPzHe",
        "colab_type": "text"
      },
      "source": [
        "The two-parameter replace() method returns a copy of the original string in which all occurrences of the first argument have been replaced by the second argument\n",
        "\n",
        "The three-parameter replace() variant uses the third argument (a number) to limit the number of replacements."
      ]
    },
    {
      "cell_type": "code",
      "metadata": {
        "id": "DZxTxfdNPzHf",
        "colab_type": "code",
        "colab": {}
      },
      "source": [
        "# Demonstrating the replace() method\n",
        "print(\"www.netacad.com\".replace(\"netacad.com\", \"pythoninstitute.org\"))\n",
        "print(\"This is it!\".replace(\"is\", \"are\"))\n",
        "print(\"Apple juice\".replace(\"juice\", \"\"))"
      ],
      "execution_count": null,
      "outputs": []
    },
    {
      "cell_type": "code",
      "metadata": {
        "id": "6kutTmeBPzHh",
        "colab_type": "code",
        "colab": {}
      },
      "source": [
        "print(\"This is it!\".replace(\"is\", \"are\", 1))\n",
        "print(\"This is it!\".replace(\"is\", \"are\", 2))"
      ],
      "execution_count": null,
      "outputs": []
    },
    {
      "cell_type": "markdown",
      "metadata": {
        "id": "VIDSMckgPzHj",
        "colab_type": "text"
      },
      "source": [
        "### The rfind() method\n",
        "\n",
        "Start their searches from the end of the string\n",
        "\n",
        "hence the prefix `r`, for `right`"
      ]
    },
    {
      "cell_type": "code",
      "metadata": {
        "id": "kjTGSPSLPzHk",
        "colab_type": "code",
        "colab": {}
      },
      "source": [
        "# Demonstrating the rfind() method\n",
        "print(\"tau tau tau\".rfind(\"ta\"))\n",
        "print(\"tau tau tau\".rfind(\"ta\", 9))\n",
        "print(\"tau tau tau\".rfind(\"ta\", 3, 9))"
      ],
      "execution_count": null,
      "outputs": []
    },
    {
      "cell_type": "markdown",
      "metadata": {
        "id": "j6Zr460TPzHm",
        "colab_type": "text"
      },
      "source": [
        "### The rstrip() method"
      ]
    },
    {
      "cell_type": "markdown",
      "metadata": {
        "id": "UzUCf1coPzHm",
        "colab_type": "text"
      },
      "source": [
        "Two variants of the rstrip() method do nearly the same as lstrips, but affect the opposite side of the string."
      ]
    },
    {
      "cell_type": "code",
      "metadata": {
        "id": "eBqDJFcCPzHn",
        "colab_type": "code",
        "colab": {}
      },
      "source": [
        "# Demonstrating the rstrip() method\n",
        "print(\"[\" + \" upsilon \".rstrip() + \"]\")\n",
        "print(\"cisco.com\".rstrip(\".com\"))"
      ],
      "execution_count": null,
      "outputs": []
    },
    {
      "cell_type": "markdown",
      "metadata": {
        "id": "vclZ0-ylPzHp",
        "colab_type": "text"
      },
      "source": [
        "### The split() method\n",
        "\n",
        "The split() method does what it says - it splits the string and builds a list of all detected substrings.\n",
        "\n",
        "The method assumes that the substrings are delimited by whitespaces "
      ]
    },
    {
      "cell_type": "code",
      "metadata": {
        "id": "4h0DaMrwPzHq",
        "colab_type": "code",
        "colab": {}
      },
      "source": [
        "# Demonstrating the split() method\n",
        "# print(\"phi       chi\\npsi\".split())\n",
        "\n",
        "s = \"naik delman istimewa. kududuk dimuka. duduk disamping pak kusir\"\n",
        "a = s.split('.')\n",
        "print(a[-1])"
      ],
      "execution_count": null,
      "outputs": []
    },
    {
      "cell_type": "markdown",
      "metadata": {
        "id": "6dVprz--PzHs",
        "colab_type": "text"
      },
      "source": [
        "### The startswith() method\n",
        "\n",
        "The startswith() method is a mirror reflection of endswith() - it checks if a given string starts with the specified substring."
      ]
    },
    {
      "cell_type": "code",
      "metadata": {
        "id": "jNKykdkaPzHt",
        "colab_type": "code",
        "colab": {}
      },
      "source": [
        "# Demonstrating the startswith() method\n",
        "print(\"omega\".startswith(\"meg\"))\n",
        "print(\"omega\".startswith(\"om\"))"
      ],
      "execution_count": null,
      "outputs": []
    },
    {
      "cell_type": "markdown",
      "metadata": {
        "id": "VmgK3gE5PzHv",
        "colab_type": "text"
      },
      "source": [
        "### The strip() method\n",
        "\n",
        "The trip() method combines the effects caused by rstrip() and lstrip() - it makes a new string lacking all the leading and trailing whitespaces."
      ]
    },
    {
      "cell_type": "code",
      "metadata": {
        "id": "K1sPaihhPzHv",
        "colab_type": "code",
        "colab": {}
      },
      "source": [
        "# Demonstrating the strip() method\n",
        "print(\"[\" + \"   aleph   \".strip() + \"]\")"
      ],
      "execution_count": null,
      "outputs": []
    },
    {
      "cell_type": "markdown",
      "metadata": {
        "id": "fGFsPgvsPzHy",
        "colab_type": "text"
      },
      "source": [
        "### The swapcase() method\n",
        "\n",
        "The swapcase() method makes a new string by swapping the case of all letters within the source string: lower-case characters become upper-case, and vice versa.\n",
        "\n",
        "### The title() method\n",
        "\n",
        "It changes every word's first letter to upper-case, turning all other ones to lower-case.\n",
        "\n",
        "### The upper() method\n",
        "\n",
        "The upper() method makes a copy of the source string, replaces all lower-case letters with their upper-case counterparts, and returns the string as the result."
      ]
    },
    {
      "cell_type": "code",
      "metadata": {
        "id": "bgl2x50GPzHz",
        "colab_type": "code",
        "colab": {}
      },
      "source": [
        "# Demonstrating the swapcase() method\n",
        "print(\"I know that I know nothing.\".swapcase())\n",
        "\n",
        "print()\n",
        "\n",
        "# Demonstrating the title() method\n",
        "print(\"I know that I know nothing. Part 1.\".title())\n",
        "\n",
        "print()\n",
        "\n",
        "# Demonstrating the upper() method\n",
        "print(\"I know that I know nothing. Part 2.\".upper())"
      ],
      "execution_count": null,
      "outputs": []
    },
    {
      "cell_type": "markdown",
      "metadata": {
        "id": "jDFoz5rgPzH1",
        "colab_type": "text"
      },
      "source": [
        "## Lab : Mysplit"
      ]
    },
    {
      "cell_type": "code",
      "metadata": {
        "id": "uql30TmuPzH1",
        "colab_type": "code",
        "colab": {}
      },
      "source": [
        "def mysplit(strng):\n",
        "    strng = strng.strip()\n",
        "    start = 0\n",
        "    strng += \" \"\n",
        "    if len(strng)>0:\n",
        "        l = []\n",
        "        fnd = strng.find(\" \")\n",
        "        while fnd != -1:\n",
        "            l.append(strng[start:fnd])\n",
        "            start = fnd+1\n",
        "            fnd = strng.find(\" \", fnd + 1)\n",
        "            \n",
        "        return l\n",
        "        \n",
        "    else:\n",
        "        return []\n",
        "    \n",
        "    \n",
        "def mysplit2(strng):\n",
        "    strng = strng.strip()\n",
        "    l = []\n",
        "    w = \"\"\n",
        "    i = 0\n",
        "    strng += \" \"\n",
        "    for ch in strng: \n",
        "        if ch is \" \":            \n",
        "            l.append(w)\n",
        "            w = \"\"\n",
        "        else:\n",
        "            w += ch        \n",
        "        i += 1        \n",
        "    return l\n",
        "    \n",
        "    \n",
        "# \"To be or not to be, that is the question\".find(\" \")\n",
        "\n",
        "print(mysplit2(\"To be or not to be, that is the question\"))\n",
        "print(mysplit2(\"To be or not to be,that is the question\"))\n",
        "print(mysplit2(\"   \"))\n",
        "print(mysplit2(\" abc \"))\n",
        "print(mysplit2(\"\"))"
      ],
      "execution_count": null,
      "outputs": []
    },
    {
      "cell_type": "code",
      "metadata": {
        "id": "JHgZlK5aPzIG",
        "colab_type": "code",
        "colab": {}
      },
      "source": [
        "\"To be or not to be, that is the question\".strip().find(\" \")"
      ],
      "execution_count": null,
      "outputs": []
    },
    {
      "cell_type": "markdown",
      "metadata": {
        "id": "YJy56qmvPzIK",
        "colab_type": "text"
      },
      "source": [
        "## String in Action"
      ]
    },
    {
      "cell_type": "markdown",
      "metadata": {
        "id": "U3nd7BdWPzIL",
        "colab_type": "text"
      },
      "source": [
        "### Comparing strings\n",
        "\n",
        "Python's strings can be compared using the same set of operators which are in use in relation to numbers.\n",
        "\n",
        "It just compares code point values, character by character.\n",
        "\n",
        "- `==`\n",
        "- `!=`\n",
        "- `>`\n",
        "- `>=`\n",
        "- `<`\n",
        "- `<=`"
      ]
    },
    {
      "cell_type": "code",
      "metadata": {
        "id": "xEeyYNpBPzIL",
        "colab_type": "code",
        "colab": {}
      },
      "source": [
        "print('alpha' == 'alpha')\n",
        "print ('alpha' != 'Alpha')\n",
        "print ('alpha' < 'alphabet')\n",
        "# String comparison is always case-sensitive (upper-case letters are taken as lesser than lower-case).\n",
        "print ('beta' > 'Beta')\n",
        "\n",
        "# Even if a string contains digits only, it's still not a number.\n",
        "print('10' == '010')\n",
        "print('10' > '010')\n",
        "print('10' > '8')\n",
        "print('20' < '8')\n",
        "print('20' < '80')"
      ],
      "execution_count": null,
      "outputs": []
    },
    {
      "cell_type": "code",
      "metadata": {
        "id": "RQ5nSdNvPzIN",
        "colab_type": "code",
        "colab": {}
      },
      "source": [
        "# Apakah output dari kode program di bawah ini\n",
        "print('10' == 10)\n",
        "print('10' != 10)\n",
        "print('10' == 1)\n",
        "print('10' != 1)\n",
        "print('10' > 10)"
      ],
      "execution_count": null,
      "outputs": []
    },
    {
      "cell_type": "markdown",
      "metadata": {
        "id": "yxazUMngPzIP",
        "colab_type": "text"
      },
      "source": [
        "### Sorting\n",
        "\n",
        "- The first is implemented as a function named sorted().\n",
        "   - The function takes one argument (a list) and returns a new list\n",
        "- The second function named `sort()`\n",
        "    - The second method affects the list itself - no new list is created"
      ]
    },
    {
      "cell_type": "code",
      "metadata": {
        "id": "guVNcZX3PzIP",
        "colab_type": "code",
        "colab": {}
      },
      "source": [
        "# Demonstrating the sorted() function\n",
        "firstGreek = ['omega', 'alpha', 'pi', 'gamma']\n",
        "firstGreek2 = sorted(firstGreek)\n",
        "\n",
        "print(firstGreek)\n",
        "print(firstGreek2)\n",
        "\n",
        "print()\n",
        "\n",
        "# Demonstrating the sort() method\n",
        "secondGreek = ['omega', 'alpha', 'pi', 'gamma']\n",
        "print(secondGreek)\n",
        "\n",
        "secondGreek.sort()\n",
        "print(secondGreek)"
      ],
      "execution_count": null,
      "outputs": []
    },
    {
      "cell_type": "markdown",
      "metadata": {
        "id": "KH7jEb6jPzIR",
        "colab_type": "text"
      },
      "source": [
        "### Strings vs. numbers\n",
        "\n",
        "How to convert a number (an integer or a float) into a string, and vice versa."
      ]
    },
    {
      "cell_type": "code",
      "metadata": {
        "id": "M81ARxdCPzIS",
        "colab_type": "code",
        "colab": {}
      },
      "source": [
        "itg = 13\n",
        "flt = 1.3\n",
        "si = str(itg)\n",
        "sf = str(flt)\n",
        "#print(type(si))\n",
        "print(si + ' ' + sf)"
      ],
      "execution_count": null,
      "outputs": []
    },
    {
      "cell_type": "code",
      "metadata": {
        "id": "JzjWl-5BPzIT",
        "colab_type": "code",
        "colab": {}
      },
      "source": [
        "# Caesar cipher\n",
        "text = input(\"Enter your message: \")\n",
        "\n",
        "def doCipher(text):\n",
        "    cipher = ''\n",
        "    for char in text:\n",
        "        if not char.isalpha():\n",
        "            continue\n",
        "        char = char.upper()\n",
        "        code = ord(char) + 1\n",
        "        if code > ord('Z'):\n",
        "            code = ord('A')\n",
        "        cipher += chr(code)\n",
        "    return cipher\n",
        "\n",
        "def deCipher(text):\n",
        "    cipher = ''\n",
        "    for char in text:\n",
        "        if not char.isalpha():\n",
        "            continue\n",
        "        char = char.upper()\n",
        "        code = ord(char) - 1\n",
        "        if code < ord('A'):\n",
        "            code = ord('Z')\n",
        "        cipher += chr(code)\n",
        "    return cipher\n",
        "\n",
        "print(deCipher(doCipher(text)))"
      ],
      "execution_count": null,
      "outputs": []
    },
    {
      "cell_type": "code",
      "metadata": {
        "id": "KOENw1L9PzIV",
        "colab_type": "code",
        "colab": {}
      },
      "source": [
        ""
      ],
      "execution_count": null,
      "outputs": []
    }
  ]
}