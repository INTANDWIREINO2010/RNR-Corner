{
  "nbformat": 4,
  "nbformat_minor": 0,
  "metadata": {
    "celltoolbar": "Slideshow",
    "kernelspec": {
      "display_name": "Python 3",
      "language": "python",
      "name": "python3"
    },
    "language_info": {
      "codemirror_mode": {
        "name": "ipython",
        "version": 3
      },
      "file_extension": ".py",
      "mimetype": "text/x-python",
      "name": "python",
      "nbconvert_exporter": "python",
      "pygments_lexer": "ipython3",
      "version": "3.7.4"
    },
    "rise": {
      "auto_select": "none",
      "auto_select_fragment": false,
      "footer": "<h3 style='padding:10px;color:rgb(59, 117, 158);font-weight:bold'>netacad Indonesia</h3>",
      "header": "<h2 style='padding:10px;color:rgb(59, 117, 158);font-weight:bold'>Python - PCAP</h2>",
      "scroll": true,
      "theme": "sky",
      "width": "90%"
    },
    "colab": {
      "name": "Copy of Modul 2 - Tipe Data, Variabel, Dasar Input Output, Operasi.ipynb",
      "provenance": [],
      "collapsed_sections": [
        "XhHQfSEaqPP7",
        "PRwdTwuSqPQe",
        "ttJrASItqPRs",
        "YDTZZnW2qPSA",
        "e-Tw96fTqPSP",
        "RFWfU4hVqPSc",
        "72ZwuEHqqPTn",
        "73R1yvt1qPUP",
        "xMZ4n1erqPVC",
        "15NDnYgkqPVN",
        "tYyg6j-IqPWY",
        "OclZ5C7HqPW3",
        "hCD9fTZ4qPXq",
        "1aSwq0iNqPXz",
        "1WfcBlf1qPYC",
        "E4Op7TlSqPYQ",
        "Z1mc2q0JqPYc",
        "ZG9wXg_CqPYx",
        "pCXTIKVtqPZx",
        "AuuIhNRMqPaC",
        "jCWWlch1qPaQ"
      ],
      "include_colab_link": true
    }
  },
  "cells": [
    {
      "cell_type": "markdown",
      "metadata": {
        "id": "view-in-github",
        "colab_type": "text"
      },
      "source": [
        "<a href=\"https://colab.research.google.com/github/INTANDWIREINO2010/RNR-Corner/blob/master/Copy_of_Modul_2_Tipe_Data%2C_Variabel%2C_Dasar_Input_Output%2C_Operasi.ipynb\" target=\"_parent\"><img src=\"https://colab.research.google.com/assets/colab-badge.svg\" alt=\"Open In Colab\"/></a>"
      ]
    },
    {
      "cell_type": "markdown",
      "metadata": {
        "id": "Sjf4ItlaqPNC",
        "colab_type": "text"
      },
      "source": [
        "# Tipe data, Variable dan operasi dasar\n",
        "klik untuk [Open in colab](https://colab.research.google.com/github/sykrn/py-dts/blob/master/Modul%202%20-%20Tipe%20Data%2C%20Variabel%2C%20Dasar%20Input%20Output%2C%20Operasi.ipynb) "
      ]
    },
    {
      "cell_type": "markdown",
      "metadata": {
        "id": "iHB3yLTkqPNF",
        "colab_type": "text"
      },
      "source": [
        "## Luaran pembelajaran\n",
        "\n",
        "- tipe data dan metode dasar untuk memformat, mengkonversi, input dan output data;\n",
        "- operator;\n",
        "- variabel."
      ]
    },
    {
      "cell_type": "markdown",
      "metadata": {
        "id": "1_-TnYmYqPNH",
        "colab_type": "text"
      },
      "source": [
        "## 2.1.1 Program Pertama\n",
        "\n",
        "- mengenal fungsi `print()`;\n",
        "- tanda kurung buka;\n",
        "- tanda kutip;\n",
        "- kalimat 1 baris: `Hello, World!`;\n",
        "- fungsi beberapa tanda kutip lain;\n",
        "- tanda kurung tutup."
      ]
    },
    {
      "cell_type": "code",
      "metadata": {
        "id": "qX77KPcXqPNS",
        "colab_type": "code",
        "colab": {}
      },
      "source": [
        "print(\"Hello, World!!!!!!\")\n",
        "print(\"Goodbye World!!!\")\n"
      ],
      "execution_count": null,
      "outputs": []
    },
    {
      "cell_type": "markdown",
      "metadata": {
        "id": "FA2eGb5fqPNl",
        "colab_type": "text"
      },
      "source": [
        "## Lab\n",
        "- Cetak kalimat \"Hello, Python!\"\n",
        "- Cetak nama pertamamu\n",
        "- Cetak nama pertamamu tanpa petik\n",
        "- apakah ada bedanya double quote \"\" dan single quote ' ?"
      ]
    },
    {
      "cell_type": "code",
      "metadata": {
        "scrolled": true,
        "id": "bxXyPReYqPNm",
        "colab_type": "code",
        "colab": {}
      },
      "source": [
        "print(\"Hello, Python!\")\n",
        "print(\"Petik satu atau dua\")\n",
        "print('Petik satu atau dua')\n"
      ],
      "execution_count": null,
      "outputs": []
    },
    {
      "cell_type": "markdown",
      "metadata": {
        "id": "Ztj1TUj6qPNv",
        "colab_type": "text"
      },
      "source": [
        "## Formatting dengan Special Character\n",
        "- `\\` = karakter spesial \"escaping nature\"\n",
        "\n",
        "- `\\n` = untuk enter\n",
        "\n",
        "- `\\` = escaping karakter\n",
        "\n",
        "```python\n",
        "print() = berarti line kosong\n",
        "```\n",
        "\n",
        "Tidak boleh ada 2 perintah dalam 1 baris\n",
        "```python\n",
        "print(\"nama depan\") print (\"nama belakang\")\n",
        "```"
      ]
    },
    {
      "cell_type": "code",
      "metadata": {
        "scrolled": true,
        "id": "aGkSV13oqPNw",
        "colab_type": "code",
        "colab": {}
      },
      "source": [
        "print(\"seketika langit menjadi gelap\\nkemudian hujan turun dengan deras.\")\n",
        "print()\n",
        "print(\"ibu memasak di dapur\\ndan kakak menyapu di halaman.\")\n",
        "  "
      ],
      "execution_count": null,
      "outputs": []
    },
    {
      "cell_type": "code",
      "metadata": {
        "cell_style": "split",
        "id": "ew9tyZ_eqPN2",
        "colab_type": "code",
        "colab": {}
      },
      "source": [
        "print(\"\\\"\")\n"
      ],
      "execution_count": null,
      "outputs": []
    },
    {
      "cell_type": "code",
      "metadata": {
        "cell_style": "split",
        "scrolled": false,
        "id": "zrZ9aamHqPOC",
        "colab_type": "code",
        "colab": {}
      },
      "source": [
        "print(\"\\\\\")\n"
      ],
      "execution_count": null,
      "outputs": []
    },
    {
      "cell_type": "code",
      "metadata": {
        "id": "tyEZbzMeqPOH",
        "colab_type": "code",
        "colab": {}
      },
      "source": [
        "# Dia mengatakan \"halo\"\n",
        "print(\"Dia mengatakan \\\"halo\\\"\")\n"
      ],
      "execution_count": null,
      "outputs": []
    },
    {
      "cell_type": "markdown",
      "metadata": {
        "id": "nDWT795pqPOQ",
        "colab_type": "text"
      },
      "source": [
        "Beberapa kalimat dapat dipisahkan dengan koma"
      ]
    },
    {
      "cell_type": "code",
      "metadata": {
        "id": "IlyvCWAnqPOT",
        "colab_type": "code",
        "colab": {}
      },
      "source": [
        "print(\"The itsy bitsy spider.\" , \"climbed up.\" , \"the waterspout.\")\n",
        " "
      ],
      "execution_count": null,
      "outputs": []
    },
    {
      "cell_type": "code",
      "metadata": {
        "id": "a5TtyiUkqPOk",
        "colab_type": "code",
        "colab": {}
      },
      "source": [
        "print(\"My name is\", \"Python.\")\n",
        "print(\"Monty Python.\")\n"
      ],
      "execution_count": null,
      "outputs": []
    },
    {
      "cell_type": "markdown",
      "metadata": {
        "id": "f9gmFYs_qPOq",
        "colab_type": "text"
      },
      "source": [
        "```end=\" \"``` digunakan untuk meletakkan argumen setelah argumen pertama"
      ]
    },
    {
      "cell_type": "code",
      "metadata": {
        "id": "ybjs5RhPqPOy",
        "colab_type": "code",
        "colab": {}
      },
      "source": [
        "print(\"My name is\", \"Python.\", end=\" \")\n",
        "print(\"Monty Python.\")\n"
      ],
      "execution_count": null,
      "outputs": []
    },
    {
      "cell_type": "code",
      "metadata": {
        "id": "OAYsgoAuqPO7",
        "colab_type": "code",
        "colab": {}
      },
      "source": [
        "print(\"My name is \", end=\" ## \")\n",
        "print(\"Monty Python.\")\n"
      ],
      "execution_count": null,
      "outputs": []
    },
    {
      "cell_type": "markdown",
      "metadata": {
        "id": "zTECypI-qPPU",
        "colab_type": "text"
      },
      "source": [
        "```sep=\" \" ``` digunakan untuk memisahkan antar argumen dengan string kosong atau karakter lain"
      ]
    },
    {
      "cell_type": "code",
      "metadata": {
        "id": "mkt6ogChqPPY",
        "colab_type": "code",
        "colab": {}
      },
      "source": [
        "print(\"My\", \"name\", \"is\", \"Monty\", \"Python.\", sep=\"-\")"
      ],
      "execution_count": null,
      "outputs": []
    },
    {
      "cell_type": "code",
      "metadata": {
        "id": "A-yA_MaoqPPt",
        "colab_type": "code",
        "colab": {}
      },
      "source": [
        "print(\"My\", \"name\", \"is\", sep=\"_\", end=\"*\")\n",
        "print(\"Monty\", \"Python.\", sep=\"*\", end=\"*\\n\")\n",
        "print(\"Digital\", \"Talent\", \"Dahsyat\", sep=\"_\", end=\"*\")\n",
        "print(\"Guntur\", \"Budi.\", sep=\"*\", end=\"*\\n\")"
      ],
      "execution_count": null,
      "outputs": []
    },
    {
      "cell_type": "markdown",
      "metadata": {
        "id": "XhHQfSEaqPP7",
        "colab_type": "text"
      },
      "source": [
        "## Lab\n",
        "\n",
        "Buatlah Program untuk menghasilkan output:\n",
        "`Programming***Essentials***in...Python`"
      ]
    },
    {
      "cell_type": "code",
      "metadata": {
        "id": "8PJFM5riqPP9",
        "colab_type": "code",
        "colab": {}
      },
      "source": [
        "print(\"Programming\",\"Essentials\",\"in\",sep=\"***\",end=\"...\")\n",
        "print(\"Python\")\n"
      ],
      "execution_count": null,
      "outputs": []
    },
    {
      "cell_type": "markdown",
      "metadata": {
        "id": "PRwdTwuSqPQe",
        "colab_type": "text"
      },
      "source": [
        "## Lab\n",
        "\n",
        "Buatlah program dengan output sebagai berikut:\n",
        "```\n",
        "    *\n",
        "   * *\n",
        "  *   *\n",
        " *     *\n",
        "***   ***\n",
        "  *   *\n",
        "  *   *\n",
        "  ***** ```"
      ]
    },
    {
      "cell_type": "code",
      "metadata": {
        "id": "-EWVFGYgqPQo",
        "colab_type": "code",
        "colab": {}
      },
      "source": [
        "print(\"    *\\n   * *\\n  *   *\\n *     *\\n***   ***\\n  *   *\\n  *   *\\n  *****\\n\"*2)\n"
      ],
      "execution_count": null,
      "outputs": []
    },
    {
      "cell_type": "code",
      "metadata": {
        "id": "yFhBXRH-qPRb",
        "colab_type": "code",
        "colab": {}
      },
      "source": [
        "print(\"    *    \"*2)\n",
        "print(\"   * *   \"*2)\n",
        "print(\"  *   *  \"*2)\n",
        "print(\" *     * \"*2)\n",
        "print(\"***   ***\"*2)\n",
        "print(\"  *   *  \"*2)\n",
        "print(\"  *   *  \"*2)\n",
        "print(\"  *****  \"*2)\n"
      ],
      "execution_count": null,
      "outputs": []
    },
    {
      "cell_type": "markdown",
      "metadata": {
        "id": "ttJrASItqPRs",
        "colab_type": "text"
      },
      "source": [
        "## 2.1.2 Literals\n",
        "literal merupakan notasi untuk mensimbolkan nilai, dapat berupa string, boolean maupun angka (integer dan float)"
      ]
    },
    {
      "cell_type": "code",
      "metadata": {
        "id": "9mMT7I5ZqPRu",
        "colab_type": "code",
        "colab": {}
      },
      "source": [
        "# hasil output akan terlihat sama, namun nilai tersebut tersimpan berbeda dalam memori komputer\n",
        "print(\"2\")\n",
        "print(2)\n",
        "\n",
        "print(type(\"2\"))\n",
        "print(type(2))\n"
      ],
      "execution_count": null,
      "outputs": []
    },
    {
      "cell_type": "markdown",
      "metadata": {
        "id": "YDTZZnW2qPSA",
        "colab_type": "text"
      },
      "source": [
        "## Integers vs Floats\n"
      ]
    },
    {
      "cell_type": "code",
      "metadata": {
        "id": "7NkhwF1mqPSB",
        "colab_type": "code",
        "colab": {}
      },
      "source": [
        "print(5, \"mempunyai tipe\", type(5))\n",
        "\n",
        "print(5.0, \"mempunyai tipe\", type(5.0))\n"
      ],
      "execution_count": null,
      "outputs": []
    },
    {
      "cell_type": "markdown",
      "metadata": {
        "id": "e-Tw96fTqPSP",
        "colab_type": "text"
      },
      "source": [
        "\n",
        "## Penulisan Float dan Integer\n",
        "Python versi 3 membolehkan pemisahan digit integer dengan underscore \"_\"\n",
        "agar mudah dibaca\n",
        "```python\n",
        "print (10_000_000)```\n",
        "\n",
        "Float dipisahkan dengan .(titik) bukan ,(koma)\n",
        "cara penulisan float bisa 3 cara\n",
        "\n",
        "- 4.0\n",
        "- .4 (terbaca nol koma 4)\n",
        "- 4. (terbaca 4 koma nol)\n",
        "\n",
        "> 3e08 berarti $ 3 x 10 ^ 8 $  \n",
        "3e-08 berarti $ 3 x 10 ^ {-8} $\n"
      ]
    },
    {
      "cell_type": "code",
      "metadata": {
        "id": "Sh5qsOpWqPSQ",
        "colab_type": "code",
        "colab": {}
      },
      "source": [
        "print (0.000000003)\n",
        "print (3e-8)\n"
      ],
      "execution_count": null,
      "outputs": []
    },
    {
      "cell_type": "markdown",
      "metadata": {
        "id": "RFWfU4hVqPSc",
        "colab_type": "text"
      },
      "source": [
        "## String\n",
        "\n",
        "Buatlah program untuk menghasilkan output `I'm Monty Python`"
      ]
    },
    {
      "cell_type": "code",
      "metadata": {
        "id": "xLt7KcLRqPSe",
        "colab_type": "code",
        "colab": {}
      },
      "source": [
        "print(\"I'm Monty Python\")\n",
        "print(\"Jum'at\")\n",
        "print('\"Saya berpendapat python itu mudah\", kata Monty')\n",
        "print(\"1.5\")\n",
        "print(\"1000\")\n"
      ],
      "execution_count": null,
      "outputs": []
    },
    {
      "cell_type": "code",
      "metadata": {
        "id": "62zgA14wqPTR",
        "colab_type": "code",
        "colab": {}
      },
      "source": [
        "#string kosong pun juga bernilai string\n",
        "print(\"\")\n",
        "print('')\n"
      ],
      "execution_count": null,
      "outputs": []
    },
    {
      "cell_type": "markdown",
      "metadata": {
        "id": "72ZwuEHqqPTn",
        "colab_type": "text"
      },
      "source": [
        "## Booelan\n",
        "Logika benar salah, 1 bernilai benar (True) dan 0 bernilai salah (False)"
      ]
    },
    {
      "cell_type": "code",
      "metadata": {
        "id": "h-0__dPeqPTs",
        "colab_type": "code",
        "colab": {}
      },
      "source": [
        "print(True)\n",
        "print(False)\n",
        "print (3>0)\n",
        "print (0>3)"
      ],
      "execution_count": null,
      "outputs": []
    },
    {
      "cell_type": "markdown",
      "metadata": {
        "id": "73R1yvt1qPUP",
        "colab_type": "text"
      },
      "source": [
        "## None"
      ]
    },
    {
      "cell_type": "code",
      "metadata": {
        "id": "TVUj5RcjqPUV",
        "colab_type": "code",
        "colab": {}
      },
      "source": [
        "print(None)"
      ],
      "execution_count": null,
      "outputs": []
    },
    {
      "cell_type": "markdown",
      "metadata": {
        "id": "xMZ4n1erqPVC",
        "colab_type": "text"
      },
      "source": [
        "## Lab\n",
        "Buat output seperti ini dalam satu line <br/>\n",
        "`\"I'm\"`<br/>\n",
        "`\"\"learning\"\"`<br/>\n",
        "`\"\"\"Python\"\"\"`"
      ]
    },
    {
      "cell_type": "code",
      "metadata": {
        "id": "3tI6md83qPVE",
        "colab_type": "code",
        "colab": {}
      },
      "source": [
        "print('\"I\\'m\"\\n\"\"learning\"\"\\n\"\"\"Python\"\"\"')\n",
        "\n",
        "print(\"\"\"\n",
        "\"I'm\"\n",
        "\"\"learning\"\"\n",
        "\\\"\"\"Python\"\"\\\"\n",
        "\"\"\")"
      ],
      "execution_count": null,
      "outputs": []
    },
    {
      "cell_type": "markdown",
      "metadata": {
        "id": "3Nstd73zqPVL",
        "colab_type": "text"
      },
      "source": [
        "# 2.1.3 Operator"
      ]
    },
    {
      "cell_type": "markdown",
      "metadata": {
        "id": "15NDnYgkqPVN",
        "colab_type": "text"
      },
      "source": [
        "### Operator Aritmetika\n",
        "\n",
        "| Operator | Arti                                                                                          | Contoh                  |\n",
        "|----------|--------------------------------------------------------------------------------------------------|--------------------------|\n",
        "| +        | Penambahan                                                                   | x + y                 |\n",
        "| -        | Pengurangan                                              | x - y                  |\n",
        "| *        | Perkalian                                                                            | x * y                    |\n",
        "| /        | Pembagian                                 | x / y                    |\n",
        "| %        | Modulo - Sisa Pembagian                                 | x % y (sisa pembagian of x/y) |\n",
        "| //       | Pembagian dan dibulatkan ke bawah | x // y                   |\n",
        "| **       | Eksponen - Pangkat                                             | x**y (x pangkat y)  |"
      ]
    },
    {
      "cell_type": "code",
      "metadata": {
        "id": "gTvDPdC5qPVS",
        "colab_type": "code",
        "colab": {}
      },
      "source": [
        "#eksponen/pangkat\n",
        "print(2 ** 3)\n",
        "print(2 ** 3.)\n",
        "print(2. ** 3)\n",
        "print(2. ** 3.)\n"
      ],
      "execution_count": null,
      "outputs": []
    },
    {
      "cell_type": "code",
      "metadata": {
        "id": "rVL5YPP8qPVZ",
        "colab_type": "code",
        "colab": {}
      },
      "source": [
        "#pembagian\n",
        "print(6 / 3)\n",
        "print(6 / 3.)\n",
        "print(6. / 3)\n",
        "print(6. / 3.)\n"
      ],
      "execution_count": null,
      "outputs": []
    },
    {
      "cell_type": "code",
      "metadata": {
        "id": "yEsdT_rQqPVl",
        "colab_type": "code",
        "colab": {}
      },
      "source": [
        "#pembagian dengan pembulatan ke bawah\n",
        "print(6 // 3)\n",
        "print(6 // 3.)\n",
        "print(6. // 3)\n",
        "print(6. // 3.)\n"
      ],
      "execution_count": null,
      "outputs": []
    },
    {
      "cell_type": "code",
      "metadata": {
        "id": "A5xCnX8aqPVp",
        "colab_type": "code",
        "colab": {}
      },
      "source": [
        "print(6 // 4)\n",
        "print(6. // 4)\n",
        "\n",
        "print(6 / 4)\n",
        "print(6. / 4)\n",
        "\n",
        "#Penting ! pembulatan selalu ke nilai bawahnya\n"
      ],
      "execution_count": null,
      "outputs": []
    },
    {
      "cell_type": "code",
      "metadata": {
        "id": "jOGrPYRtqPV2",
        "colab_type": "code",
        "colab": {}
      },
      "source": [
        "print(-6 // 4)\n",
        "print(6. // -4)\n"
      ],
      "execution_count": null,
      "outputs": []
    },
    {
      "cell_type": "code",
      "metadata": {
        "id": "zEknHqkoqPV_",
        "colab_type": "code",
        "colab": {}
      },
      "source": [
        "#modulo/sisa bagi\n",
        "print(14 % 4)\n"
      ],
      "execution_count": null,
      "outputs": []
    },
    {
      "cell_type": "code",
      "metadata": {
        "id": "135nlRZZqPWI",
        "colab_type": "code",
        "colab": {}
      },
      "source": [
        "print(-4 + 4)\n",
        "print(-4. + 8)\n"
      ],
      "execution_count": null,
      "outputs": []
    },
    {
      "cell_type": "markdown",
      "metadata": {
        "id": "tYyg6j-IqPWY",
        "colab_type": "text"
      },
      "source": [
        "### Urutan Operator"
      ]
    },
    {
      "cell_type": "code",
      "metadata": {
        "id": "kR9t4emWqPWY",
        "colab_type": "code",
        "colab": {
          "base_uri": "https://localhost:8080/",
          "height": 34
        },
        "outputId": "fa2c0e71-3750-4c26-9368-c171e495279e"
      },
      "source": [
        "#perkalian lebih didahulukan dari penambahan\n",
        "2 + 3 * 5\n"
      ],
      "execution_count": null,
      "outputs": [
        {
          "output_type": "execute_result",
          "data": {
            "text/plain": [
              "17"
            ]
          },
          "metadata": {
            "tags": []
          },
          "execution_count": 3
        }
      ]
    },
    {
      "cell_type": "code",
      "metadata": {
        "id": "ave7iyX7qPWe",
        "colab_type": "code",
        "colab": {
          "base_uri": "https://localhost:8080/",
          "height": 34
        },
        "outputId": "29d15ddc-d767-43f5-8eed-20419fee9b2b"
      },
      "source": [
        "#pengerjaan dari kiri ke kanan\n",
        "print(9 % 6 % 2)\n"
      ],
      "execution_count": null,
      "outputs": [
        {
          "output_type": "stream",
          "text": [
            "1\n"
          ],
          "name": "stdout"
        }
      ]
    },
    {
      "cell_type": "code",
      "metadata": {
        "id": "2E2CkuddqPWn",
        "colab_type": "code",
        "colab": {
          "base_uri": "https://localhost:8080/",
          "height": 34
        },
        "outputId": "10571d42-54d1-4bc2-b82f-2e218992dd97"
      },
      "source": [
        "#pengerjaan dari kanan ke kiri\n",
        "print(2 ** 2 ** 3)\n"
      ],
      "execution_count": null,
      "outputs": [
        {
          "output_type": "stream",
          "text": [
            "256\n"
          ],
          "name": "stdout"
        }
      ]
    },
    {
      "cell_type": "markdown",
      "metadata": {
        "id": "63qgGMKNqPWu",
        "colab_type": "text"
      },
      "source": [
        "| Prioritas| Operator |  ket   |\n",
        "|----------|----------|--------|\n",
        "| 1        | +, -     | unary  |\n",
        "| 2        | **       |        |\n",
        "| 3        | *, /, %  |        |\n",
        "| 4        | +, -     | binary |"
      ]
    },
    {
      "cell_type": "code",
      "metadata": {
        "id": "wJlngMSQqPWv",
        "colab_type": "code",
        "colab": {
          "base_uri": "https://localhost:8080/",
          "height": 34
        },
        "outputId": "c24e1430-d64c-4597-ae24-fe6bee37cb8f"
      },
      "source": [
        "print((5 * ((25 % 13) + 100) / (2 * 13)) // 2)\n"
      ],
      "execution_count": null,
      "outputs": [
        {
          "output_type": "stream",
          "text": [
            "10.0\n"
          ],
          "name": "stdout"
        }
      ]
    },
    {
      "cell_type": "markdown",
      "metadata": {
        "id": "OclZ5C7HqPW3",
        "colab_type": "text"
      },
      "source": [
        "### Latihan\n",
        "\n",
        "`print((2 ** 4), (2 * 4.), (2 * 4))`<br/>\n",
        "`print((-2 / 4), (2 / 4), (2 // 4), (-2 // 4))`<br/>\n",
        "`print((2 % -4), (2 % 4), (2 ** 3 ** 2))`<br/>"
      ]
    },
    {
      "cell_type": "markdown",
      "metadata": {
        "id": "nmKJCWh3qPW4",
        "colab_type": "text"
      },
      "source": [
        "# 2.1.4 Variabel\n",
        "- Apa itu variabel?\n",
        "- Bagaimana Aturan Penamaannya?\n"
      ]
    },
    {
      "cell_type": "code",
      "metadata": {
        "id": "sTmthwjmqPW4",
        "colab_type": "code",
        "colab": {
          "base_uri": "https://localhost:8080/",
          "height": 34
        },
        "outputId": "d0fc1c7b-3329-4b91-e3db-e75e69c0ab07"
      },
      "source": [
        "# kamu bisa menaruh tipe data apapun dalam variabel\n",
        "var = 1 # bukan operasi matematika, namun operasi assignment i.e., var <-- 1\n",
        "print(var)\n"
      ],
      "execution_count": null,
      "outputs": [
        {
          "output_type": "stream",
          "text": [
            "1\n"
          ],
          "name": "stdout"
        }
      ]
    },
    {
      "cell_type": "markdown",
      "metadata": {
        "id": "XEbOpTLKqPW8",
        "colab_type": "text"
      },
      "source": [
        "- baris pertama membuat variabel dengan nama `var`, dan diisi dengan nilai `1`.\n",
        "- baris kedua mencetak nilai dalam variabel ke dalam console"
      ]
    },
    {
      "cell_type": "code",
      "metadata": {
        "id": "SCNEJeppqPW9",
        "colab_type": "code",
        "colab": {
          "base_uri": "https://localhost:8080/",
          "height": 52
        },
        "outputId": "965df29e-b4ef-4f1e-c6b0-4dd8d872bf6a"
      },
      "source": [
        "var = 1\n",
        "saldo = 1000.0\n",
        "namaKlien = 'John Doe'\n",
        "print(var, saldo, namaKlien)\n",
        "print(var)\n"
      ],
      "execution_count": null,
      "outputs": [
        {
          "output_type": "stream",
          "text": [
            "1 1000.0 John Doe\n",
            "1\n"
          ],
          "name": "stdout"
        }
      ]
    },
    {
      "cell_type": "code",
      "metadata": {
        "id": "E_YRH_1NqPXA",
        "colab_type": "code",
        "colab": {
          "base_uri": "https://localhost:8080/",
          "height": 34
        },
        "outputId": "3bd14b19-c5e1-4604-9b2a-e0382d61a7fc"
      },
      "source": [
        "#case sensitive, huruf besar kecil perlu diperhatikan!\n",
        "var = 1\n",
        "print( var) "
      ],
      "execution_count": null,
      "outputs": [
        {
          "output_type": "stream",
          "text": [
            "1\n"
          ],
          "name": "stdout"
        }
      ]
    },
    {
      "cell_type": "code",
      "metadata": {
        "id": "KAeP2eZGqPXX",
        "colab_type": "code",
        "colab": {
          "base_uri": "https://localhost:8080/",
          "height": 34
        },
        "outputId": "0dbf9404-e828-421c-fa44-6bb2696f4df7"
      },
      "source": [
        "#tanda '+' bisa digunakan untuk kontatinasi untuk type string\n",
        "var = \"2019\"\n",
        "print(\"Digital talent: \" + var)"
      ],
      "execution_count": null,
      "outputs": [
        {
          "output_type": "stream",
          "text": [
            "Digital talent: 2019\n"
          ],
          "name": "stdout"
        }
      ]
    },
    {
      "cell_type": "code",
      "metadata": {
        "id": "vMf6pNlmqPXb",
        "colab_type": "code",
        "colab": {
          "base_uri": "https://localhost:8080/",
          "height": 52
        },
        "outputId": "3afa93cc-6eef-448c-bd4d-217d0fdc1da1"
      },
      "source": [
        "#menetapkan  nilai baru ke dalam variabel yang telah ada \n",
        "#menugaskan variabel\n",
        "\n",
        "var = 1\n",
        "print(var)\n",
        "var = var + 1\n",
        "print(var)"
      ],
      "execution_count": null,
      "outputs": [
        {
          "output_type": "stream",
          "text": [
            "1\n",
            "2\n"
          ],
          "name": "stdout"
        }
      ]
    },
    {
      "cell_type": "code",
      "metadata": {
        "id": "kuFM2ugUqPXl",
        "colab_type": "code",
        "colab": {
          "base_uri": "https://localhost:8080/",
          "height": 34
        },
        "outputId": "4b5b4c2b-9b62-4bc3-f5ed-6fec34f2c2aa"
      },
      "source": [
        "var = 100\n",
        "var = 200 + 300\n",
        "print(var)"
      ],
      "execution_count": null,
      "outputs": [
        {
          "output_type": "stream",
          "text": [
            "500\n"
          ],
          "name": "stdout"
        }
      ]
    },
    {
      "cell_type": "markdown",
      "metadata": {
        "id": "hCD9fTZ4qPXq",
        "colab_type": "text"
      },
      "source": [
        "### Latihan\n",
        "Tulis rumus ini dalam kode program:<br/> $c=\\sqrt{a^2+b^2}$"
      ]
    },
    {
      "cell_type": "code",
      "metadata": {
        "id": "QMJwOWfTqPXr",
        "colab_type": "code",
        "colab": {
          "base_uri": "https://localhost:8080/",
          "height": 34
        },
        "outputId": "9efd900c-f3cd-4b55-b443-904d06800e6f"
      },
      "source": [
        "a = 3.0\n",
        "b = 4.0\n",
        "c = (a ** 2 + b ** 2) ** 0.5\n",
        "print(\"c =\", c)"
      ],
      "execution_count": null,
      "outputs": [
        {
          "output_type": "stream",
          "text": [
            "c = 5.0\n"
          ],
          "name": "stdout"
        }
      ]
    },
    {
      "cell_type": "markdown",
      "metadata": {
        "id": "1aSwq0iNqPXz",
        "colab_type": "text"
      },
      "source": [
        "### Lab\n",
        "\n",
        "<b>Cerita Pendek:</b> \n",
        "\n",
        "Suatu waktu di kebun apel, Guntur memiliki 3 apel, Icha memiliki 5 apel dan Ratna memiliki 6 Apel. mereka sangat bahagia dan hidup lama. selesai.\n",
        "\n",
        "Tugas Anda\n",
        "- buat variabe : `Guntur`, `Icha` dan `Ratna`\n",
        "- isi nilai sesuai dengan jumlah apel yang mereka miliki\n",
        "- cetak nama variabel dan jumlah apel setiap variabel dalam 1 baris, pisahkan dengan koma\n",
        "- buat variabel baru dengan nama `totalApel` yang berisi penjumlahan seluruh apel yang mereka miliki\n",
        "- coba otak atik code dengan membuat variable baru, diisi dengan nilai lain, dan dihitung dengan operator aritmetik lainnya\n"
      ]
    },
    {
      "cell_type": "code",
      "metadata": {
        "id": "-RZkH6ErqPX3",
        "colab_type": "code",
        "colab": {
          "base_uri": "https://localhost:8080/",
          "height": 87
        },
        "outputId": "e92e26b3-a88d-4d8c-aff9-ae26c7cf2425"
      },
      "source": [
        "Guntur = 3\n",
        "Icha = 5\n",
        "Ratna = 6\n",
        "\n",
        "print(\"Apel milik Guntur\",Guntur)\n",
        "print(\"Apel milik Guntur\",Icha)\n",
        "print(\"Apel milik Guntur\",Ratna)\n",
        "\n",
        "totalApel = Guntur + Icha + Ratna\n",
        "print(\"Total number of apples: \" , totalApel)"
      ],
      "execution_count": null,
      "outputs": [
        {
          "output_type": "stream",
          "text": [
            "Apel milik Guntur 3\n",
            "Apel milik Guntur 5\n",
            "Apel milik Guntur 6\n",
            "Total number of apples:  14\n"
          ],
          "name": "stdout"
        }
      ]
    },
    {
      "cell_type": "code",
      "metadata": {
        "id": "UfFqoX8BqPX8",
        "colab_type": "code",
        "colab": {
          "base_uri": "https://localhost:8080/",
          "height": 70
        },
        "outputId": "c76036d0-3f95-4079-a360-43078a7215d0"
      },
      "source": [
        "#Jalan Pintas operator\n",
        "\n",
        "sheep = 5\n",
        "sheep = sheep + 1\n",
        "print(sheep)\n",
        "\n",
        "sheep += 3\n",
        "print(sheep)\n",
        "\n",
        "sheep *= 2\n",
        "print(sheep)"
      ],
      "execution_count": null,
      "outputs": [
        {
          "output_type": "stream",
          "text": [
            "6\n",
            "9\n",
            "18\n"
          ],
          "name": "stdout"
        }
      ]
    },
    {
      "cell_type": "markdown",
      "metadata": {
        "id": "1WfcBlf1qPYC",
        "colab_type": "text"
      },
      "source": [
        "### Lab\n",
        "\n",
        "Mil dan kilometer adalah satuan panjang\n",
        "\n",
        "1 mil memiliki panjang sekitar 1.61 kilometer, buatlah program konversi di bawah ini\n",
        "- mil ke kilometer;\n",
        "- kilometer to mil.\n",
        "jangan ganti apapun terhadap kode yang sudah ada. tulis kodemu pada tanda ###, kemudian hapus tanda tersebut. Uji kode Anda dengan data yang kami sajikan dalam source code\n"
      ]
    },
    {
      "cell_type": "markdown",
      "metadata": {
        "id": "3-W6YXrfqPYE",
        "colab_type": "text"
      },
      "source": [
        "Kode:\n",
        "```python\n",
        "kilometer = 12.25\n",
        "mil = 7.38\n",
        "\n",
        "mil_ke_kilometer = ###\n",
        "kilometer_ke_mil = ###\n",
        "\n",
        "print(mil, \"1 mil adalah\", round(miles_to_kilometers, 2), \"kilometer\")\n",
        "print(kilometer, \"1 kilometer adalah\", round(kilometers_to_miles, 2), \"mil\")\n",
        "```"
      ]
    },
    {
      "cell_type": "code",
      "metadata": {
        "id": "LjDOqeZcqPYH",
        "colab_type": "code",
        "colab": {
          "base_uri": "https://localhost:8080/",
          "height": 52
        },
        "outputId": "c3310d43-425e-40c1-abae-36138fb64efa"
      },
      "source": [
        "kilometer = 12.25\n",
        "mil = 7.61\n",
        "\n",
        "mil_ke_kilometer = mil * 1.61\n",
        "kilometer_ke_mil = kilometer / 1.61\n",
        "\n",
        "print(mil, \"mil adalah\", round(mil_ke_kilometer, 2), \"kilometer\")\n",
        "print(kilometer, \"kilometer adalah\", round(kilometer_ke_mil, 2), \"mil\")"
      ],
      "execution_count": null,
      "outputs": [
        {
          "output_type": "stream",
          "text": [
            "7.61 mil adalah 12.25 kilometer\n",
            "12.25 kilometer adalah 7.61 mil\n"
          ],
          "name": "stdout"
        }
      ]
    },
    {
      "cell_type": "markdown",
      "metadata": {
        "id": "E4Op7TlSqPYQ",
        "colab_type": "text"
      },
      "source": [
        "### Lab\n",
        "\n",
        "Skenario\n",
        "lihatlah kode dalam editor, nilai tersebut termasuk tipe float, letakkan nilai tersebut dalam variabel x, dan print variabel tersebut dalam variabel y. Tugasmu adalah melengkapi kode di bawah ini untk menyelesaikan persamaan di bawah\n",
        "\n",
        "$3x^3 - 2x^2 + 3x - 1$\n",
        "\n",
        "Hasil harus disimpan dalam variabel y.\n",
        "ingat bahwa aljabar klasik sering menghilangkan operator perkalian, kamu harus menggunakannya secara eksplisit. Ingat bagaimana cara mengubah tipe data untuk memastikan bahwa x bertipe float.\n",
        "\n",
        "usahakan kodemu mudah dibaca, uji kode dengan data yang telah kami berikan.\n",
        "\n",
        "```python\n",
        "x =  # hardcode your test data here\n",
        "x = float(x)\n",
        "# tulis kodemu disini\n",
        "print(\"y =\", y)\n",
        "```\n",
        "\n",
        "Test Data:\n",
        "```python\n",
        "#input\n",
        "x = 0\n",
        "x = 1\n",
        "x = -1\n",
        "\n",
        "#output\n",
        "y = -1.0\n",
        "y = 3.0\n",
        "y = -9.0\n",
        "```"
      ]
    },
    {
      "cell_type": "code",
      "metadata": {
        "id": "kKli1EG5qPYR",
        "colab_type": "code",
        "colab": {
          "base_uri": "https://localhost:8080/",
          "height": 34
        },
        "outputId": "495a2428-cc09-471d-d71c-e32eede5cc03"
      },
      "source": [
        "x = -1\n",
        "x = float(x)\n",
        "y = 3*x**3 - 2*x**2 + 3*x -1\n",
        "print(\"y =\", y)"
      ],
      "execution_count": null,
      "outputs": [
        {
          "output_type": "stream",
          "text": [
            "y = -9.0\n"
          ],
          "name": "stdout"
        }
      ]
    },
    {
      "cell_type": "markdown",
      "metadata": {
        "id": "Z1mc2q0JqPYc",
        "colab_type": "text"
      },
      "source": [
        "### Exercise\n",
        "\n",
        "Apa outputnya?\n",
        "```python\n",
        "var = 2\n",
        "var = 3\n",
        "print(var)\n",
        "```\n",
        "\n",
        "Nama variabel mana yang ilegal?\n",
        "```python\n",
        "my_var\n",
        "m\n",
        "101\n",
        "averylongvariablename\n",
        "m101\n",
        "m 101\n",
        "Del\n",
        "del\n",
        "```\n",
        "\n",
        "Apa Outputnya?\n",
        "```python\n",
        "a = '1'\n",
        "b = \"1\"\n",
        "print(a + b)\n",
        "```\n",
        "\n",
        "Apa outputnya?\n",
        "\n",
        "```python\n",
        "a = 6\n",
        "b = 3\n",
        "a /= 2 * b\n",
        "print(a)\n",
        "```"
      ]
    },
    {
      "cell_type": "markdown",
      "metadata": {
        "id": "2hDxFoTcqPYc",
        "colab_type": "text"
      },
      "source": [
        "# 2.1.5 Comments\n",
        "Latihan: mana yang seharusnya menjadi komentar, mana yang tidak"
      ]
    },
    {
      "cell_type": "code",
      "metadata": {
        "id": "6LM4R3g1qPYd",
        "colab_type": "code",
        "colab": {
          "base_uri": "https://localhost:8080/",
          "height": 34
        },
        "outputId": "a123ff6c-eaab-4bca-cbe9-08e5b50081ca"
      },
      "source": [
        "#this program computes the number of seconds in a given number of hours\n",
        "# this program has been written two days ago\n",
        "\n",
        "a = 2 # number of hours\n",
        "seconds = 3600 # number of seconds in 1 hour\n",
        "\n",
        "print(\"Hours: \", a) #printing the number of hours\n",
        "# print(\"Seconds in Hours: \", a * seconds) # printing the number of seconds in a given number of hours\n",
        "\n",
        "#here we should also print \"Goodbye\", but a programmer didn't have time to write any code\n",
        "#this is the end of the program that computes the number of seconds in 3 hour\n"
      ],
      "execution_count": null,
      "outputs": [
        {
          "output_type": "stream",
          "text": [
            "Hours:  2\n"
          ],
          "name": "stdout"
        }
      ]
    },
    {
      "cell_type": "markdown",
      "metadata": {
        "id": "gPwq-8lsqPYi",
        "colab_type": "text"
      },
      "source": [
        "# 2.1.6 How to talk to a computer \n",
        "katakunci `input()`<br/>\n",
        "hasil dari fungsi `input()` adalah <b>string</b>.<br/>\n",
        "Tidak bisa langsung dikenakan ke operasi aritmetika"
      ]
    },
    {
      "cell_type": "code",
      "metadata": {
        "id": "xEGV6sIwqPYm",
        "colab_type": "code",
        "colab": {
          "base_uri": "https://localhost:8080/",
          "height": 70
        },
        "outputId": "2a6faf73-f52e-4c30-d642-81de333d9320"
      },
      "source": [
        "print(\"Tell me anything...\")\n",
        "anything = input()\n",
        "print(\"Hmm...\", anything, \"... Really?\")\n"
      ],
      "execution_count": null,
      "outputs": [
        {
          "output_type": "stream",
          "text": [
            "Tell me anything...\n",
            "ko bisa\n",
            "Hmm... ko bisa ... Really?\n"
          ],
          "name": "stdout"
        }
      ]
    },
    {
      "cell_type": "code",
      "metadata": {
        "id": "DjXGsdNMqPYt",
        "colab_type": "code",
        "colab": {
          "base_uri": "https://localhost:8080/",
          "height": 52
        },
        "outputId": "e93e7a24-4a27-4132-9d40-3ef65d7fdcfb"
      },
      "source": [
        "angka = input(\"Masukkan Angka...\")\n",
        "print(\"Pangkat duanya adalah\", angka*2)\n"
      ],
      "execution_count": null,
      "outputs": [
        {
          "output_type": "stream",
          "text": [
            "Masukkan Angka...13763613\n",
            "Pangkat duanya adalah 1376361313763613\n"
          ],
          "name": "stdout"
        }
      ]
    },
    {
      "cell_type": "markdown",
      "metadata": {
        "id": "ZG9wXg_CqPYx",
        "colab_type": "text"
      },
      "source": [
        "### type casting"
      ]
    },
    {
      "cell_type": "code",
      "metadata": {
        "id": "9JLs-9cNqPY1",
        "colab_type": "code",
        "colab": {
          "base_uri": "https://localhost:8080/",
          "height": 52
        },
        "outputId": "ad3cc587-a0b9-4bcd-9cac-25d6b9a2c1c7"
      },
      "source": [
        "angka = float(input(\"Masukkan Angka...\"))\n",
        "print(\"Pangkat duanya adalah\", angka**2)\n"
      ],
      "execution_count": null,
      "outputs": [
        {
          "output_type": "stream",
          "text": [
            "Masukkan Angka...545\n",
            "Pangkat duanya adalah 297025.0\n"
          ],
          "name": "stdout"
        }
      ]
    },
    {
      "cell_type": "code",
      "metadata": {
        "id": "l0T7AT-mqPZD",
        "colab_type": "code",
        "colab": {
          "base_uri": "https://localhost:8080/",
          "height": 70
        },
        "outputId": "4254f58e-1c01-4759-eb21-b4f80dd7669f"
      },
      "source": [
        "leg_a = float(input(\"Input first leg length: \"))\n",
        "leg_b = float(input(\"Input second leg length: \"))\n",
        "hypo = (leg_a**2 + leg_b**2) ** .5\n",
        "print(\"Hypotenuse length is\", hypo)\n"
      ],
      "execution_count": null,
      "outputs": [
        {
          "output_type": "stream",
          "text": [
            "Input first leg length: 5\n",
            "Input second leg length: 6\n",
            "Hypotenuse length is 7.810249675906654\n"
          ],
          "name": "stdout"
        }
      ]
    },
    {
      "cell_type": "code",
      "metadata": {
        "id": "09tA38hkqPZW",
        "colab_type": "code",
        "colab": {
          "base_uri": "https://localhost:8080/",
          "height": 105
        },
        "outputId": "8c372acd-8b9a-474a-b87f-3ba268b65ad8"
      },
      "source": [
        "fnam = input(\"May I have your first name, please? \")\n",
        "lnam = input(\"May I have your last name, please? \")\n",
        "print(\"Thank you.\")\n",
        "print(\"\\nYour name is \" + fnam + \" \" + lnam + \".\")\n"
      ],
      "execution_count": null,
      "outputs": [
        {
          "output_type": "stream",
          "text": [
            "May I have your first name, please? 4\n",
            "May I have your last name, please? 5\n",
            "Thank you.\n",
            "\n",
            "Your name is 4 5.\n"
          ],
          "name": "stdout"
        }
      ]
    },
    {
      "cell_type": "code",
      "metadata": {
        "id": "DWUDDyQ4qPZg",
        "colab_type": "code",
        "colab": {
          "base_uri": "https://localhost:8080/",
          "height": 141
        },
        "outputId": "2dfe1489-d4b5-4747-9177-825b67db74b3"
      },
      "source": [
        "#Replication\n",
        "\n",
        "print(\"+\" + 10 * \"-\" + \"+\")\n",
        "print((\"|\" + \" \" * 10 + \"|\\n\") * 5, end=\"\")\n",
        "print(\"+\" + 10 * \"-\" + \"+\")\n"
      ],
      "execution_count": null,
      "outputs": [
        {
          "output_type": "stream",
          "text": [
            "+----------+\n",
            "|          |\n",
            "|          |\n",
            "|          |\n",
            "|          |\n",
            "|          |\n",
            "+----------+\n"
          ],
          "name": "stdout"
        }
      ]
    },
    {
      "cell_type": "code",
      "metadata": {
        "id": "Xj_T2di8qPZl",
        "colab_type": "code",
        "colab": {
          "base_uri": "https://localhost:8080/",
          "height": 70
        },
        "outputId": "8a69c59f-cff3-4beb-e4fe-e239095b9b4e"
      },
      "source": [
        "leg_a = float(input(\"Input first leg length: \"))\n",
        "leg_b = float(input(\"Input second leg length: \"))\n",
        "print(\"Hypotenuse length is \" + str((leg_a**2 + leg_b**2) ** .5))\n"
      ],
      "execution_count": null,
      "outputs": [
        {
          "output_type": "stream",
          "text": [
            "Input first leg length: 4\n",
            "Input second leg length: 5\n",
            "Hypotenuse length is 6.4031242374328485\n"
          ],
          "name": "stdout"
        }
      ]
    },
    {
      "cell_type": "markdown",
      "metadata": {
        "id": "pCXTIKVtqPZx",
        "colab_type": "text"
      },
      "source": [
        "### Lab\n",
        "Coba utak atik perintah kode dibawah ini\n",
        "``` python\n",
        "# Masukkan nilai a dalam float\n",
        "# Masukkan nilai b dalam float\n",
        "\n",
        "# hitung hasil penambahan disini\n",
        "# hitung hasil pengurangan disini\n",
        "# hitung hasil perkalian disini\n",
        "# hitung hasil pembagian disini\n",
        "\n",
        "\n",
        "print(\"\\nYeahhhh\")\n",
        "```"
      ]
    },
    {
      "cell_type": "code",
      "metadata": {
        "id": "po-LUIF2qPZz",
        "colab_type": "code",
        "colab": {
          "base_uri": "https://localhost:8080/",
          "height": 158
        },
        "outputId": "79cb36a1-4f36-4d12-8c1f-6c02864f2fa5"
      },
      "source": [
        "a = float(input(\"Masukkan a = \"))\n",
        "b = float(input(\"Masukkan b = \"))\n",
        "\n",
        "print(\"a+b = \",a+b)\n",
        "print(\"a-b = \",a-b)\n",
        "print(\"a*b = \",a*b)\n",
        "print(\"a/b = \",a/b)\n",
        "print(\"\\nYeahhhh!\")\n"
      ],
      "execution_count": null,
      "outputs": [
        {
          "output_type": "stream",
          "text": [
            "Masukkan a = 35\n",
            "Masukkan b = 67\n",
            "a+b =  102.0\n",
            "a-b =  -32.0\n",
            "a*b =  2345.0\n",
            "a/b =  0.5223880597014925\n",
            "\n",
            "Yeahhhh!\n"
          ],
          "name": "stdout"
        }
      ]
    },
    {
      "cell_type": "markdown",
      "metadata": {
        "id": "AuuIhNRMqPaC",
        "colab_type": "text"
      },
      "source": [
        "### Lab\n",
        "Kerjakan rumus berikut:\n",
        "\n",
        "$$\\frac{1}{x+\\frac{1}{x+\\frac{1}{x+\\frac{1}{x}}}}$$\n",
        "\n",
        "input/output yang diharapkan\n",
        "```python\n",
        "x = 1\n",
        "y = 0.6000000000000001\n",
        "\n",
        "x = 10\n",
        "y = 0.09901951266867294\n",
        "```"
      ]
    },
    {
      "cell_type": "code",
      "metadata": {
        "id": "VzZGY8p9qPaC",
        "colab_type": "code",
        "colab": {
          "base_uri": "https://localhost:8080/",
          "height": 52
        },
        "outputId": "bee74ac1-0fd0-4aeb-83b6-9537255d73c9"
      },
      "source": [
        "x = float(input(\"Enter value for x: \"))\n",
        "y = 1/(x+1/(x+1/(x+1/x)))\n",
        "\n",
        "print(\"y =\", y)\n"
      ],
      "execution_count": null,
      "outputs": [
        {
          "output_type": "stream",
          "text": [
            "Enter value for x: 5\n",
            "y = 0.19258202567760344\n"
          ],
          "name": "stdout"
        }
      ]
    },
    {
      "cell_type": "markdown",
      "metadata": {
        "id": "jCWWlch1qPaQ",
        "colab_type": "text"
      },
      "source": [
        "### Lab\n",
        "Tugasmu adalah mempersiapkan kode simpel untuk menentukan waktu akhir/selesai sebuah kegiatan. Diberikan variabel durasi waktu dalam menit dan waktu mulai dalam jam (0..23)dan menit (0..59). hasilnya harus dicetak dalam console\n",
        "\n",
        "sebagai contoh, jika suatu kegiatan dimulai pukul `12:17` dan berlangsung selama `59 minutes` , maka kegiatan tersebut tersebut akan selesai pukul `13:16`\n",
        "\n",
        "jangan takut kalau kodemu belum sempurna, tidak masalah waktunya terlihat tidak valid, yang terpenting kodenya dapat menghasilkan nilai yang valid berdasarkan data input.\n",
        "\n",
        "Kode Dasar:\n",
        "```python\n",
        "jam = int(input(\"waktu mulai (jam): \"))\n",
        "menit = int(input(\"waktu mulai (menit): \"))\n",
        "durasi= int(input(\"durasi kegiatan (minutes): \"))\n",
        "\n",
        "# Letakkan kodemu disini\n",
        "```\n",
        "Uji Kodemu, Petunjuk ! gunakan operator % sebagai kunci suksesmu\n",
        ",,"
      ]
    },
    {
      "cell_type": "code",
      "metadata": {
        "id": "_kI00gw1qPaS",
        "colab_type": "code",
        "colab": {
          "base_uri": "https://localhost:8080/",
          "height": 87
        },
        "outputId": "c235fb37-51cd-4da8-9d54-88f71ea21b55"
      },
      "source": [
        "# coba di cek lagi\n",
        "\n",
        "jam = int(input(\"waktu mulai (jam): \"))\n",
        "menit = int(input(\"waktu mulai (menit): \"))\n",
        "durasi = int(input(\"durasi kegiatan (menit): \"))\n",
        "\n",
        "tambah_menit = menit + durasi\n",
        "tambah_jam = int(tambah_menit / 60)\n",
        "\n",
        "jam += tambah_jam\n",
        "menit = tambah_menit % 60\n",
        "\n",
        "print(str(jam%24)+':'+str(menit))"
      ],
      "execution_count": null,
      "outputs": [
        {
          "output_type": "stream",
          "text": [
            "waktu mulai (jam): 5\n",
            "waktu mulai (menit): 6\n",
            "durasi kegiatan (menit): 7\n",
            "5:13\n"
          ],
          "name": "stdout"
        }
      ]
    },
    {
      "cell_type": "code",
      "metadata": {
        "id": "_OiJZSWbyxN9",
        "colab_type": "code",
        "colab": {}
      },
      "source": [
        ""
      ],
      "execution_count": null,
      "outputs": []
    }
  ]
}